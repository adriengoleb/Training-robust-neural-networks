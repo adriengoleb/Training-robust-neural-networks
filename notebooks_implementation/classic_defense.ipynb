{
  "cells": [
    {
      "cell_type": "markdown",
      "metadata": {
        "id": "gFWdxwqixyvS"
      },
      "source": [
        "IASD Data science Project: Attack of networks"
      ]
    },
    {
      "cell_type": "markdown",
      "metadata": {
        "id": "HV9ETJ9Uxd5_"
      },
      "source": [
        "# Import modules and data"
      ]
    },
    {
      "cell_type": "code",
      "execution_count": null,
      "metadata": {
        "id": "FLoEPnL1wx91"
      },
      "outputs": [],
      "source": [
        "import torch\n",
        "import torchvision\n",
        "import torchvision.transforms as transforms\n",
        "import torch.nn as nn\n",
        "import torch.nn.functional as F\n",
        "import torch.optim as optim\n",
        "import matplotlib.pyplot as plt\n",
        "import numpy as np\n",
        "from tqdm import tqdm\n",
        "import torchattacks\n",
        "\n",
        "device = torch.device('cuda:0' if torch.cuda.is_available() else 'cpu')\n"
      ]
    },
    {
      "cell_type": "code",
      "execution_count": null,
      "metadata": {
        "colab": {
          "base_uri": "https://localhost:8080/",
          "height": 104,
          "referenced_widgets": [
            "e96f847649a5445aaef0158ac8f40f17",
            "ae67948c4bd648a5abfbc80bc8f801da",
            "550cc42f195b489182cf8769a9be8a4f",
            "72659a74c77b40c98a51479651513641",
            "d45734fab3334d88a0ca84b7e2dd377b",
            "80c439d39dd942f6afbf3a2d269b9157",
            "2cf3aa3977aa4d9a9d56f95fdac49c89",
            "112f5a1201544ff6b1d613a760fbc870",
            "bba4e87d65124e809ada4fdd3f1388b8",
            "52b5f07d6bb54b4b8425a3482c9d1fa8",
            "9ebcbd1e5c664e41ac148af7eb2b1264"
          ]
        },
        "id": "M4aQF5n0yESx",
        "outputId": "f13a943c-70c5-4266-e4c6-a6ea53b82657"
      },
      "outputs": [
        {
          "output_type": "stream",
          "name": "stdout",
          "text": [
            "Downloading https://www.cs.toronto.edu/~kriz/cifar-10-python.tar.gz to ./data/cifar-10-python.tar.gz\n"
          ]
        },
        {
          "output_type": "display_data",
          "data": {
            "text/plain": [
              "  0%|          | 0/170498071 [00:00<?, ?it/s]"
            ],
            "application/vnd.jupyter.widget-view+json": {
              "version_major": 2,
              "version_minor": 0,
              "model_id": "e96f847649a5445aaef0158ac8f40f17"
            }
          },
          "metadata": {}
        },
        {
          "output_type": "stream",
          "name": "stdout",
          "text": [
            "Extracting ./data/cifar-10-python.tar.gz to ./data\n",
            "Files already downloaded and verified\n"
          ]
        }
      ],
      "source": [
        "transform = transforms.Compose(\n",
        "    [transforms.ToTensor(),\n",
        "     transforms.Normalize((0.5, 0.5, 0.5), (0.5, 0.5, 0.5))])\n",
        "\n",
        "batch_size = 4\n",
        "\n",
        "\n",
        "train_set = torchvision.datasets.CIFAR10(root='./data', train=True,\n",
        "                                        download=True, transform=transform)\n",
        "\n",
        "train_loader = torch.utils.data.DataLoader(train_set, batch_size=batch_size,\n",
        "                                          shuffle=True, num_workers=2)\n",
        "\n",
        "test_set = torchvision.datasets.CIFAR10(root='./data', train=False,\n",
        "                                       download=True, transform=transform)\n",
        "test_loader = torch.utils.data.DataLoader(test_set, batch_size=batch_size,\n",
        "                                         shuffle=False, num_workers=2)\n",
        "\n",
        "classes = ('plane', 'car', 'bird', 'cat',\n",
        "           'deer', 'dog', 'frog', 'horse', 'ship', 'truck')"
      ]
    },
    {
      "cell_type": "markdown",
      "metadata": {
        "id": "ZOtVsyMXyjdY"
      },
      "source": [
        "## Network to attack"
      ]
    },
    {
      "cell_type": "code",
      "execution_count": null,
      "metadata": {
        "id": "N2QDs6slym6k"
      },
      "outputs": [],
      "source": [
        "class Attackme(nn.Module):\n",
        "  def __init__(self):\n",
        "    super().__init__()\n",
        "    self.conv1 = nn.Conv2d(3, 32, 5)\n",
        "    self.pool = nn.MaxPool2d(2, 2)\n",
        "    self.conv2 = nn.Conv2d(32, 64, 5)\n",
        "    #self.conv3 = nn.Conv2d(64, 128, 5)\n",
        "    self.fc1 = nn.Linear(64 * 5 * 5, 120)\n",
        "    self.fc2 = nn.Linear(120, 84)\n",
        "    self.fc3 = nn.Linear(84, 10)    \n",
        "\n",
        "  def forward(self, x):\n",
        "      x = self.pool(F.relu(self.conv1(x)))\n",
        "      x = self.pool(F.relu(self.conv2(x)))\n",
        "      #x = self.pool(F.relu(self.conv3(x)))\n",
        "      x = torch.flatten(x, 1) # flatten all dimensions except batch\n",
        "      x = F.relu(self.fc1(x))\n",
        "      x = F.relu(self.fc2(x))\n",
        "      x = self.fc3(x)\n",
        "      return x\n",
        "\n",
        "def training(model,epochs,device):\n",
        "  criterion = nn.CrossEntropyLoss()\n",
        "  optimizer = optim.Adam(model.parameters(), lr=0.001)\n",
        "\n",
        "  for ep in range(epochs):\n",
        "    running_loss = 0.0\n",
        "    for i, data in enumerate(train_loader, 0):\n",
        "\n",
        "        inputs, labels = data[0].to(device), data[1].to(device)\n",
        "        optimizer.zero_grad()\n",
        "\n",
        "        outputs = model(inputs)\n",
        "        loss = criterion(outputs, labels)\n",
        "        loss.backward()\n",
        "        optimizer.step()\n",
        "\n",
        "        # print statistics\n",
        "        running_loss += loss.item()\n",
        "        if i % 2000 == 1999:    # print every 2000 mini-batches\n",
        "            print(f'[{ep + 1}, {i + 1:5d}] loss: {running_loss / 2000:.3f}')\n",
        "            running_loss = 0.0\n"
      ]
    },
    {
      "cell_type": "markdown",
      "metadata": {
        "id": "cymj-uT862ZF"
      },
      "source": [
        "## Atack mechanisms"
      ]
    },
    {
      "cell_type": "markdown",
      "metadata": {
        "id": "gBpHtmMx644a"
      },
      "source": [
        "FGSM"
      ]
    },
    {
      "cell_type": "code",
      "execution_count": null,
      "metadata": {
        "id": "Ee28fscU68Kb"
      },
      "outputs": [],
      "source": [
        "from torch.autograd import Variable\n",
        "\n",
        "class FGSM(object):\n",
        "  def __init__(self, model, criterion,adv_training=False,plot_ex=False):\n",
        "      self.model = model\n",
        "      self.criterion = criterion\n",
        "      self.adv_training = adv_training\n",
        "      self.plot_ex = plot_ex\n",
        "\n",
        "  def attack(self, x, y, eps, x_min=-1, x_max=1):\n",
        "\n",
        "    x2 = Variable(x,requires_grad = True)\n",
        "\n",
        "    output = self.model(x2)\n",
        "\n",
        "    pred = output.max(1, keepdim=True)[1]\n",
        "    \n",
        "    cost = self.criterion(output,y)\n",
        "\n",
        "    self.model.zero_grad()\n",
        "\n",
        "    cost.backward()\n",
        "\n",
        "    x_grad = x2.grad.data\n",
        "  \n",
        "    x_attacked = x + eps*(x_grad.sign())\n",
        "    x_attacked = torch.clamp(x_attacked,x_min,x_max)\n",
        "\n",
        "    if self.adv_training:\n",
        "      return x_attacked\n",
        "    elif self.plot_ex:\n",
        "      y_attacked = self.model(x_attacked)\n",
        "      return x_attacked,y_attacked\n",
        "    else:\n",
        "      y_attacked = self.model(x_attacked)\n",
        "      return y_attacked\n"
      ]
    },
    {
      "cell_type": "code",
      "execution_count": null,
      "metadata": {
        "id": "-BldhgFsPfGA"
      },
      "outputs": [],
      "source": [
        "fgsm = FGSM(model, nn.CrossEntropyLoss())\n",
        "eps = 0.15\n",
        "\n",
        "\n",
        "tot = 0\n",
        "ok = 0\n",
        "\n",
        "for images, labels in test_loader:\n",
        "  images, labels = images.to(device), labels.to(device)\n",
        "  y_attacked = fgsm.attack(images,labels,eps)\n",
        "  predicted = y_attacked.max(1, keepdim=True)[1]\n",
        "  tot += len(labels)\n",
        "  ok += (predicted.T[0] == labels).sum().item()\n",
        "\n",
        "\n",
        "print(f'Accu: {100 * ok / tot} %')"
      ]
    },
    {
      "cell_type": "markdown",
      "metadata": {
        "id": "dO3MbFyL2J5y"
      },
      "source": [
        "PGD Attack"
      ]
    },
    {
      "cell_type": "code",
      "execution_count": null,
      "metadata": {
        "id": "kZQuxEfR2YP6"
      },
      "outputs": [],
      "source": [
        "class PGD(object):\n",
        "  def __init__(self, model, criterion,adv_training=False,plot_ex=False):\n",
        "      self.model = model\n",
        "      self.criterion = criterion\n",
        "      self.adv_training = adv_training\n",
        "      self.plot_ex = plot_ex\n",
        "\n",
        "  def attack(self, x, y, eps, r=1/255, x_min=-1, x_max=1,iters=10):\n",
        "\n",
        "    x0 = x\n",
        "    \n",
        "    for i in range(iters):\n",
        "      x = Variable(x,requires_grad = True)\n",
        "      output = self.model(x)\n",
        "      pred = output.max(1, keepdim=True)[1]\n",
        "      cost = self.criterion(output,y)\n",
        "      self.model.zero_grad()\n",
        "      cost.backward()\n",
        "      x_grad = x.grad.data\n",
        "      x = x + r*(x_grad.sign())\n",
        "      eta = torch.clamp(x-x0,min=-eps,max=eps)\n",
        "      x = torch.clamp(x0+eta,x_min,x_max)\n",
        "\n",
        "    if self.adv_training:\n",
        "      return x\n",
        "    elif self.plot_ex:\n",
        "      y_attacked = self.model(x)\n",
        "      return x,y_attacked\n",
        "    else:\n",
        "      y_attacked = self.model(x)\n",
        "      return y_attacked"
      ]
    },
    {
      "cell_type": "code",
      "source": [
        "pgd = PGD(model, nn.CrossEntropyLoss())\n",
        "eps = 0.15\n",
        "\n",
        "tot = 0\n",
        "ok = 0\n",
        "i=0\n",
        "for images, labels in tqdm(test_loader):\n",
        "  images, labels = images.to(device), labels.to(device)\n",
        "  y_attacked = pgd.attack(images,labels,eps)\n",
        "\n",
        "  predicted = y_attacked.max(1, keepdim=True)[1]\n",
        "  tot += len(labels)\n",
        "  ok += (predicted.T[0] == labels).sum().item()\n",
        "  i += 1\n",
        "\n",
        "print(f'Accu: {100 * ok / tot} %')"
      ],
      "metadata": {
        "colab": {
          "base_uri": "https://localhost:8080/"
        },
        "id": "n5uaObEuxJpK",
        "outputId": "a993c9f7-f345-4d31-c1b3-a519228e744e"
      },
      "execution_count": null,
      "outputs": [
        {
          "output_type": "stream",
          "name": "stderr",
          "text": [
            "100%|██████████| 2500/2500 [00:54<00:00, 46.21it/s]"
          ]
        },
        {
          "output_type": "stream",
          "name": "stdout",
          "text": [
            "Accu: 6.11 %\n"
          ]
        },
        {
          "output_type": "stream",
          "name": "stderr",
          "text": [
            "\n"
          ]
        }
      ]
    },
    {
      "cell_type": "code",
      "source": [
        "class PGDL2(object):\n",
        "\n",
        "  def __init__(self, model, criterion,adv_training=False):\n",
        "      self.model = model\n",
        "      self.criterion = criterion\n",
        "      self.adv_training = adv_training\n",
        "\n",
        "\n",
        "\n",
        "  def project(self, x, eps, p=2):\n",
        "    if p==\"inf\":\n",
        "        x = torch.clamp(x,-eps,eps)\n",
        "    else:\n",
        "        norms =  torch.norm(x.view(x.size(0),-1),dim=1,p=p) + 1e-6\n",
        "        #norms[norms==0] = 1                          # To avoid division by zero\n",
        "        #mask  = (norms > eps)                        # We select only inputs of the batch with a norm > eps\n",
        "        factor = eps / norms\n",
        "        factor = torch.min(factor, torch.ones_like(norms))\n",
        "        x = x*factor.view(-1,1,1,1)       # Project onto p-norm ball of radius 1\n",
        "        \n",
        "                                      # Multiply by eps\n",
        " \n",
        "    return x\n",
        "\n",
        "  def attack_PGD(self, model, x, y, eps, stepsize, iterations=30, p=2, targeted=False):\n",
        "    #modele.eval()  # We put the model in eval mode to avoid any stochasticity\n",
        "\n",
        "    # Start with a random point inside norm-ball\n",
        "    if p==\"inf\":\n",
        "        delta = (torch.rand(x.size()) * 2 - 1) * eps    # Each values ~ uniform(-eps,eps)\n",
        "    else:\n",
        "        \n",
        "        delta = torch.randn_like(x)                                             # Generate random direction\n",
        "        norms = torch.norm(delta.view(delta.size(0),-1), dim=1, p=p)\n",
        "        #norms[norms==0] = 1  \n",
        "        \n",
        "                                                       # To avoid division by zero\n",
        "        delta /= norms.view(-1,1,1,1)                                           # Project onto p-norm ball of radius 1\n",
        "        delta *= torch.rand((delta.size(0),1,1,1)).to(device) * eps                       # Multiply each value by f ~ uniform(0,eps)\n",
        "        \n",
        "        \n",
        "    delta = delta.to(device)\n",
        "    # Iterately take a step of fixed norm, the project on p-norm ball if necessary\n",
        "    for i in range(iterations):\n",
        "        x_adv = x + delta\n",
        "        x_adv.requires_grad_(True)\n",
        "        logits = model(torch.clamp(x_adv,0,1))\n",
        "        loss   = F.cross_entropy(logits,y)\n",
        "        #loss.backward()\n",
        "\n",
        "        if targeted: \n",
        "          loss = -loss\n",
        "\n",
        "        # Update image with a fixed stepsize\n",
        "        if p==\"inf\":\n",
        "            gradient = torch.sign(x_adv.grad) * stepsize\n",
        "        else:\n",
        "          \n",
        "            gradient  = torch.autograd.grad(loss, x_adv,\n",
        "                                       retain_graph=False, create_graph=False)[0]                                               # Take the gradient direction\n",
        "            norms     = torch.norm(gradient.view(gradient.size(0),-1),dim=1,p=p) + 1e-6\n",
        "            #norms[norms==0] = 1                                                   # To avoid division by zero\n",
        "            gradient /= norms.view(-1,1,1,1)                                      # Project onto p-norm ball of radius 1\n",
        "            gradient *= stepsize                                                  # Multipy by stepsize\n",
        "\n",
        "        #if not targeted :   x_adv = x_adv.detach() + gradient \n",
        "        #else:               x_adv = x_adv.detach() - gradient\n",
        "\n",
        "        x_adv = x_adv.detach() + gradient \n",
        "\n",
        "        # Project delta onto p-norm ball of radius eps if necessary\n",
        "        delta = (x_adv - x).detach()\n",
        "        delta = self.project(delta, eps, p)\n",
        "\n",
        "\n",
        "    x = x.detach()\n",
        "    model.zero_grad()\n",
        "    x_attacked = torch.clamp(x + delta,0,1)\n",
        "\n",
        "    if self.adv_training:\n",
        "      return x_attacked\n",
        "    else:\n",
        "      y_attacked = self.model(x_attacked)\n",
        "      return y_attacked"
      ],
      "metadata": {
        "id": "DukD6kN9BXZj"
      },
      "execution_count": null,
      "outputs": []
    },
    {
      "cell_type": "code",
      "source": [
        "pgd2 = PGDL2(model, nn.CrossEntropyLoss())\n",
        "eps = 0.1\n",
        "stepsize = 0.2\n",
        "iterations = 30\n",
        "\n",
        "\n",
        "tot = 0\n",
        "ok = 0\n",
        "i=0\n",
        "for images, labels in tqdm(test_loader):\n",
        "  images, labels = images.to(device), labels.to(device)\n",
        "  y_attacked = pgd2.attack_PGD(model,images,labels,eps,stepsize, iterations)\n",
        "\n",
        "  predicted = y_attacked.max(1, keepdim=True)[1]\n",
        "  tot += len(labels)\n",
        "  ok += (predicted.T[0] == labels).sum().item()\n",
        "  i += 1\n",
        "\n",
        "print(f'Accu: {100 * ok / tot} %')"
      ],
      "metadata": {
        "id": "Em3r-hKdBcrO"
      },
      "execution_count": null,
      "outputs": []
    },
    {
      "cell_type": "code",
      "execution_count": null,
      "metadata": {
        "id": "ajwYITQAozQu",
        "colab": {
          "base_uri": "https://localhost:8080/",
          "height": 297
        },
        "outputId": "4f0fec9b-7ca0-40f3-d92f-d06ae71759b2"
      },
      "outputs": [
        {
          "output_type": "stream",
          "name": "stderr",
          "text": [
            "100%|██████████| 15/15 [42:52<00:00, 171.50s/it]\n"
          ]
        },
        {
          "output_type": "display_data",
          "data": {
            "text/plain": [
              "<Figure size 432x288 with 1 Axes>"
            ],
            "image/png": "[encoded data removed]"
          },
          "metadata": {
            "needs_background": "light"
          }
        }
      ],
      "source": [
        "fgsm = FGSM(model, nn.CrossEntropyLoss())\n",
        "pgd = PGD(model, nn.CrossEntropyLoss())\n",
        "pgd2 = PGDL2(model, nn.CrossEntropyLoss())\n",
        "Eps = np.linspace(0,1,15)\n",
        "\n",
        "l_eps,l_acc_fgsm,l_acc_pgd, l_acc_pgdl2 = [],[],[], []\n",
        "\n",
        "for eps in tqdm(Eps):\n",
        "  tot = 0\n",
        "  ok = 0\n",
        "  ok2 = 0\n",
        "  okl2 = 0\n",
        "\n",
        "  for images, labels in test_loader:\n",
        "    images, labels = images.to(device), labels.to(device)\n",
        "\n",
        "    y_attacked = pgd2.attack_PGD(model, images,labels,eps, 0.2,30)\n",
        "    predicted = y_attacked.max(1, keepdim=True)[1]\n",
        "    okl2 += (predicted.T[0] == labels).sum().item()\n",
        "\n",
        "    y_attacked = fgsm.attack(images,labels,eps)\n",
        "    predicted = y_attacked.max(1, keepdim=True)[1]\n",
        "    tot += len(labels)\n",
        "    ok += (predicted.T[0] == labels).sum().item()\n",
        "\n",
        "    y_attacked = pgd.attack(images,labels,eps)\n",
        "    predicted = y_attacked.max(1, keepdim=True)[1]\n",
        "    ok2 += (predicted.T[0] == labels).sum().item()\n",
        "\n",
        "\n",
        "  l_eps.append(eps)\n",
        "  l_acc_fgsm.append(100 * ok / tot)\n",
        "  l_acc_pgd.append(100 * ok2 / tot)\n",
        "  l_acc_pgdl2.append(100 * okl2 / tot)\n",
        "\n",
        "\n",
        "plt.figure(1)\n",
        "plt.plot(l_eps,l_acc_fgsm,label='fgsm')\n",
        "plt.plot(l_eps,l_acc_pgd,label='pgd')\n",
        "plt.plot(l_eps,l_acc_pgdl2,label='pgdL2')\n",
        "plt.grid()\n",
        "plt.legend()\n",
        "plt.xlabel('epsilon')\n",
        "plt.ylabel('accuracy (%)')\n",
        "plt.show()\n"
      ]
    },
    {
      "cell_type": "markdown",
      "metadata": {
        "id": "wjXqeYgDNAa_"
      },
      "source": [
        "plot examples"
      ]
    },
    {
      "cell_type": "code",
      "execution_count": null,
      "metadata": {
        "id": "uT32CkpTM_Wo"
      },
      "outputs": [],
      "source": [
        "def plot_ex(attack,n_ex=4,l_eps=[0,0.005,0.5]):\n",
        "\n",
        "  if attack == 'fgsm':\n",
        "    att = FGSM(model, nn.CrossEntropyLoss(),plot_ex=True)\n",
        "  else: \n",
        "    att = PGD(model, nn.CrossEntropyLoss(),plot_ex=True)\n",
        "\n",
        "  plt.figure(figsize=(8,6))\n",
        " \n",
        "  c=0\n",
        "  \n",
        "  \n",
        "  for eps in l_eps:\n",
        "    ite =0\n",
        "\n",
        "    for images, labels in test_loader:\n",
        "      ite+=1\n",
        "\n",
        "\n",
        "      if ite ==4:\n",
        "        images, labels = images.to(device), labels.to(device)\n",
        "        x_attacked,y_attacked = att.attack(images,labels,eps)\n",
        "        #x_attacked,y_attacked = images, model(images)\n",
        "        x_attacked,y_attacked = x_attacked.squeeze().detach().cpu().numpy(),y_attacked.squeeze().detach().cpu()\n",
        "        conf = F.softmax(y_attacked, dim=1)\n",
        "        conf = torch.max(conf.data, 1)[0][0]\n",
        "        predicted = y_attacked.max(1, keepdim=True)[1]\n",
        "        for i in range(len(x_attacked.data)):\n",
        "          c+=1\n",
        "          x_att = x_attacked[i]\n",
        "          plt.subplot(len(l_eps),n_ex,c)\n",
        "          plt.xticks([], [])\n",
        "          plt.yticks([], [])  \n",
        "          #if eps == l_eps[0]:\n",
        "          plt.ylabel(\"Eps: {}\".format(eps), fontsize=14)\n",
        "          plt.title(\"{} conf:{}%\".format(classes[predicted[i]],round(float(conf)*100,2)))\n",
        "          plt.imshow(x_att[0,:,:])\n",
        "\n",
        "        break\n",
        "\n",
        "  plt.tight_layout()\n",
        "  plt.show()\n",
        "  \n"
      ]
    },
    {
      "cell_type": "code",
      "execution_count": null,
      "metadata": {
        "colab": {
          "base_uri": "https://localhost:8080/",
          "height": 171
        },
        "id": "uFu-0pY-YH1X",
        "outputId": "70372b99-cb05-4350-8845-276211bd8890"
      },
      "outputs": [
        {
          "output_type": "error",
          "ename": "NameError",
          "evalue": "ignored",
          "traceback": [
            "\u001b[0;31m---------------------------------------------------------------------------\u001b[0m",
            "\u001b[0;31mNameError\u001b[0m                                 Traceback (most recent call last)",
            "\u001b[0;32m<ipython-input-10-362291fb79ce>\u001b[0m in \u001b[0;36m<module>\u001b[0;34m\u001b[0m\n\u001b[0;32m----> 1\u001b[0;31m \u001b[0mplot_ex\u001b[0m\u001b[0;34m(\u001b[0m\u001b[0;34m'fgsm'\u001b[0m\u001b[0;34m)\u001b[0m\u001b[0;34m\u001b[0m\u001b[0;34m\u001b[0m\u001b[0m\n\u001b[0m",
            "\u001b[0;31mNameError\u001b[0m: name 'plot_ex' is not defined"
          ]
        }
      ],
      "source": [
        "plot_ex('fgsm')"
      ]
    },
    {
      "cell_type": "markdown",
      "metadata": {
        "id": "qw_iiqi5SjEd"
      },
      "source": [
        "## Adversarial Training"
      ]
    },
    {
      "cell_type": "markdown",
      "metadata": {
        "id": "HtDNNRRoVT_5"
      },
      "source": [
        "naive defense"
      ]
    },
    {
      "cell_type": "code",
      "source": [
        "def adv_training(model,epochs, device, alpha = 0.5,eps=0.15,train_fgsm=False, train_pgd=False,train_clean=True, train_pgdL2 = False):\n",
        "  fgsm = FGSM(model, nn.CrossEntropyLoss(),adv_training=True)\n",
        "  pgd = PGD(model, nn.CrossEntropyLoss(), adv_training=True)\n",
        "  pgd2 = PGDL2(model, nn.CrossEntropyLoss(), adv_training=True)\n",
        "  criterion = nn.CrossEntropyLoss()\n",
        "  optimizer = optim.Adam(model.parameters(), lr=0.001)\n",
        "\n",
        "  for ep in range(epochs):\n",
        "    running_loss = 0.0\n",
        "    for i, data in enumerate(train_loader, 0):  \n",
        "\n",
        "        images, labels = data[0].to(device), data[1].to(device)\n",
        "\n",
        "        # FGSM Attack\n",
        "        if train_fgsm:\n",
        "          optimizer.zero_grad()\n",
        "          x_attacked = fgsm.attack(images,labels,eps)\n",
        "          outputs = model(x_attacked)\n",
        "          loss = alpha*criterion(outputs, labels)+(1-alpha)*criterion(outputs,labels)\n",
        "          loss.backward()\n",
        "          optimizer.step()\n",
        "\n",
        "        # PGD Attack\n",
        "        if train_pgd:\n",
        "          optimizer.zero_grad()\n",
        "          x_attacked = pgd.attack(images,labels,eps)\n",
        "          outputs = model(x_attacked)\n",
        "          loss = criterion(outputs, labels)\n",
        "          loss.backward()\n",
        "          optimizer.step()\n",
        "\n",
        "        #PGD L2\n",
        "        if train_pgdL2:\n",
        "          optimizer.zero_grad()\n",
        "          x_attacked = pgd2.attack_PGD(model,images,labels,eps, 0.2, epochs)\n",
        "          outputs = model(x_attacked)\n",
        "          loss = criterion(outputs, labels)\n",
        "          loss.backward()\n",
        "          optimizer.step()\n",
        "\n",
        "        if train_clean:        \n",
        "          optimizer.zero_grad()\n",
        "          outputs = model(images)\n",
        "          loss = criterion(outputs, labels)\n",
        "          loss.backward()\n",
        "          optimizer.step()\n",
        "\n",
        "        # print statistics\n",
        "        running_loss += loss.item()\n",
        "        if i % 2000 == 1999:    # print every 2000 mini-batches\n",
        "            print(f'[{ep + 1}, {i + 1:5d}] loss: {running_loss / 2000:.3f}')\n",
        "            running_loss = 0.0"
      ],
      "metadata": {
        "id": "Tp4g17G4keop"
      },
      "execution_count": null,
      "outputs": []
    },
    {
      "cell_type": "markdown",
      "metadata": {
        "id": "G2YraTPtrlFJ"
      },
      "source": [
        "# Train"
      ]
    },
    {
      "cell_type": "code",
      "execution_count": null,
      "metadata": {
        "colab": {
          "base_uri": "https://localhost:8080/"
        },
        "id": "9skgX9WqrkiO",
        "outputId": "8c69d1d0-fe3d-48f7-cfd8-36ef892a79e1"
      },
      "outputs": [
        {
          "output_type": "stream",
          "name": "stdout",
          "text": [
            "[1,  2000] loss: 2.020\n",
            "[1,  4000] loss: 1.795\n",
            "[1,  6000] loss: 1.735\n",
            "[1,  8000] loss: 1.688\n",
            "[1, 10000] loss: 1.639\n",
            "[1, 12000] loss: 1.618\n",
            "[2,  2000] loss: 1.582\n",
            "[2,  4000] loss: 1.571\n",
            "[2,  6000] loss: 1.560\n",
            "[2,  8000] loss: 1.515\n",
            "[2, 10000] loss: 1.522\n",
            "[2, 12000] loss: 1.506\n",
            "[3,  2000] loss: 1.483\n",
            "[3,  4000] loss: 1.493\n",
            "[3,  6000] loss: 1.468\n",
            "[3,  8000] loss: 1.460\n",
            "[3, 10000] loss: 1.475\n",
            "[3, 12000] loss: 1.461\n",
            "[4,  2000] loss: 1.428\n",
            "[4,  4000] loss: 1.453\n",
            "[4,  6000] loss: 1.407\n",
            "[4,  8000] loss: 1.449\n",
            "[4, 10000] loss: 1.413\n",
            "[4, 12000] loss: 1.438\n",
            "[5,  2000] loss: 1.398\n",
            "[5,  4000] loss: 1.405\n",
            "[5,  6000] loss: 1.390\n",
            "[5,  8000] loss: 1.413\n",
            "[5, 10000] loss: 1.397\n",
            "[5, 12000] loss: 1.388\n"
          ]
        }
      ],
      "source": [
        "model=Attackme()\n",
        "model.to(device)\n",
        "\n",
        "epochs = 5\n",
        "adv_training(model,epochs,device,train_clean=True,train_pgd=True  ,train_pgdL2 = True, eps = 0.40)\n",
        "\n"
      ]
    },
    {
      "cell_type": "code",
      "source": [
        "torch.save(model.state_dict(),'model_A3.pth' )"
      ],
      "metadata": {
        "id": "ljM2ig7-xT_i"
      },
      "execution_count": null,
      "outputs": []
    },
    {
      "cell_type": "code",
      "source": [
        "tot = 0\n",
        "ok = 0\n",
        "\n",
        "with torch.no_grad():\n",
        "    for data in test_loader:\n",
        "        images, labels = data[0].to(device), data[1].to(device)\n",
        "        \n",
        "        outputs = model(images)\n",
        "        _, predicted = torch.max(outputs.data, 1)\n",
        "        tot += labels.size(0)\n",
        "        ok += (predicted == labels).sum().item()\n",
        "\n",
        "print(f'Accuracy without attack: {100 * ok // tot} %')"
      ],
      "metadata": {
        "colab": {
          "base_uri": "https://localhost:8080/"
        },
        "id": "aYgk9E3BsXZ6",
        "outputId": "ea5e4628-811e-4ef6-f094-570d83ca4fa5"
      },
      "execution_count": null,
      "outputs": [
        {
          "output_type": "stream",
          "name": "stdout",
          "text": [
            "Accuracy without attack: 48 %\n"
          ]
        }
      ]
    },
    {
      "cell_type": "code",
      "execution_count": null,
      "metadata": {
        "id": "nqWEL3-9pWQg"
      },
      "outputs": [],
      "source": [
        "fgsm = FGSM(model, nn.CrossEntropyLoss())\n",
        "pgd = PGD(model, nn.CrossEntropyLoss())\n",
        "pgdL2 = PGDL2(model, nn.CrossEntropyLoss())\n",
        "\n",
        "eps = 0.4\n",
        "tot = 0\n",
        "ok = 0\n",
        "ok2, ok3 = 0, 0\n",
        "\n",
        "for images, labels in tqdm(test_loader):\n",
        "  images, labels = images.to(device), labels.to(device)\n",
        "  tot += len(labels)\n",
        "\n",
        "  y_attacked = fgsm.attack(images,labels,eps)\n",
        "  predicted = y_attacked.max(1, keepdim=True)[1]\n",
        "  ok += (predicted.T[0] == labels).sum().item()\n",
        "\n",
        "  y_attacked = pgd.attack(images,labels,eps)\n",
        "  predicted = y_attacked.max(1, keepdim=True)[1]\n",
        "  ok2 += (predicted.T[0] == labels).sum().item()\n",
        "\n",
        "  y_attacked = pgdL2.attack_PGD(model,images,labels,eps, 0.2, epochs)\n",
        "  predicted = y_attacked.max(1, keepdim=True)[1]\n",
        "  ok3 += (predicted.T[0] == labels).sum().item()\n",
        "\n",
        "\n",
        "print(f'Accuracy under FGSM attack: {100 * ok // tot} %')\n",
        "print(f'Accuracy under PGD attack: {100 * ok2 // tot} %')\n",
        "\n",
        "print(f'Accuracy under PGDL2 attack: {100 * ok3 // tot} %')\n",
        "\n",
        "\n"
      ]
    }
  ],
  "metadata": {
    "accelerator": "GPU",
    "colab": {
      "provenance": []
    },
    "gpuClass": "standard",
    "kernelspec": {
      "display_name": "Python 3",
      "name": "python3"
    },
    "language_info": {
      "name": "python"
    },
    "widgets": {
      "application/vnd.jupyter.widget-state+json": {
        "e96f847649a5445aaef0158ac8f40f17": {
          "model_module": "@jupyter-widgets/controls",
          "model_name": "HBoxModel",
          "model_module_version": "1.5.0",
          "state": {
            "_dom_classes": [],
            "_model_module": "@jupyter-widgets/controls",
            "_model_module_version": "1.5.0",
            "_model_name": "HBoxModel",
            "_view_count": null,
            "_view_module": "@jupyter-widgets/controls",
            "_view_module_version": "1.5.0",
            "_view_name": "HBoxView",
            "box_style": "",
            "children": [
              "IPY_MODEL_ae67948c4bd648a5abfbc80bc8f801da",
              "IPY_MODEL_550cc42f195b489182cf8769a9be8a4f",
              "IPY_MODEL_72659a74c77b40c98a51479651513641"
            ],
            "layout": "IPY_MODEL_d45734fab3334d88a0ca84b7e2dd377b"
          }
        },
        "ae67948c4bd648a5abfbc80bc8f801da": {
          "model_module": "@jupyter-widgets/controls",
          "model_name": "HTMLModel",
          "model_module_version": "1.5.0",
          "state": {
            "_dom_classes": [],
            "_model_module": "@jupyter-widgets/controls",
            "_model_module_version": "1.5.0",
            "_model_name": "HTMLModel",
            "_view_count": null,
            "_view_module": "@jupyter-widgets/controls",
            "_view_module_version": "1.5.0",
            "_view_name": "HTMLView",
            "description": "",
            "description_tooltip": null,
            "layout": "IPY_MODEL_80c439d39dd942f6afbf3a2d269b9157",
            "placeholder": "​",
            "style": "IPY_MODEL_2cf3aa3977aa4d9a9d56f95fdac49c89",
            "value": "100%"
          }
        },
        "550cc42f195b489182cf8769a9be8a4f": {
          "model_module": "@jupyter-widgets/controls",
          "model_name": "FloatProgressModel",
          "model_module_version": "1.5.0",
          "state": {
            "_dom_classes": [],
            "_model_module": "@jupyter-widgets/controls",
            "_model_module_version": "1.5.0",
            "_model_name": "FloatProgressModel",
            "_view_count": null,
            "_view_module": "@jupyter-widgets/controls",
            "_view_module_version": "1.5.0",
            "_view_name": "ProgressView",
            "bar_style": "success",
            "description": "",
            "description_tooltip": null,
            "layout": "IPY_MODEL_112f5a1201544ff6b1d613a760fbc870",
            "max": 170498071,
            "min": 0,
            "orientation": "horizontal",
            "style": "IPY_MODEL_bba4e87d65124e809ada4fdd3f1388b8",
            "value": 170498071
          }
        },
        "72659a74c77b40c98a51479651513641": {
          "model_module": "@jupyter-widgets/controls",
          "model_name": "HTMLModel",
          "model_module_version": "1.5.0",
          "state": {
            "_dom_classes": [],
            "_model_module": "@jupyter-widgets/controls",
            "_model_module_version": "1.5.0",
            "_model_name": "HTMLModel",
            "_view_count": null,
            "_view_module": "@jupyter-widgets/controls",
            "_view_module_version": "1.5.0",
            "_view_name": "HTMLView",
            "description": "",
            "description_tooltip": null,
            "layout": "IPY_MODEL_52b5f07d6bb54b4b8425a3482c9d1fa8",
            "placeholder": "​",
            "style": "IPY_MODEL_9ebcbd1e5c664e41ac148af7eb2b1264",
            "value": " 170498071/170498071 [00:13&lt;00:00, 14163668.11it/s]"
          }
        },
        "d45734fab3334d88a0ca84b7e2dd377b": {
          "model_module": "@jupyter-widgets/base",
          "model_name": "LayoutModel",
          "model_module_version": "1.2.0",
          "state": {
            "_model_module": "@jupyter-widgets/base",
            "_model_module_version": "1.2.0",
            "_model_name": "LayoutModel",
            "_view_count": null,
            "_view_module": "@jupyter-widgets/base",
            "_view_module_version": "1.2.0",
            "_view_name": "LayoutView",
            "align_content": null,
            "align_items": null,
            "align_self": null,
            "border": null,
            "bottom": null,
            "display": null,
            "flex": null,
            "flex_flow": null,
            "grid_area": null,
            "grid_auto_columns": null,
            "grid_auto_flow": null,
            "grid_auto_rows": null,
            "grid_column": null,
            "grid_gap": null,
            "grid_row": null,
            "grid_template_areas": null,
            "grid_template_columns": null,
            "grid_template_rows": null,
            "height": null,
            "justify_content": null,
            "justify_items": null,
            "left": null,
            "margin": null,
            "max_height": null,
            "max_width": null,
            "min_height": null,
            "min_width": null,
            "object_fit": null,
            "object_position": null,
            "order": null,
            "overflow": null,
            "overflow_x": null,
            "overflow_y": null,
            "padding": null,
            "right": null,
            "top": null,
            "visibility": null,
            "width": null
          }
        },
        "80c439d39dd942f6afbf3a2d269b9157": {
          "model_module": "@jupyter-widgets/base",
          "model_name": "LayoutModel",
          "model_module_version": "1.2.0",
          "state": {
            "_model_module": "@jupyter-widgets/base",
            "_model_module_version": "1.2.0",
            "_model_name": "LayoutModel",
            "_view_count": null,
            "_view_module": "@jupyter-widgets/base",
            "_view_module_version": "1.2.0",
            "_view_name": "LayoutView",
            "align_content": null,
            "align_items": null,
            "align_self": null,
            "border": null,
            "bottom": null,
            "display": null,
            "flex": null,
            "flex_flow": null,
            "grid_area": null,
            "grid_auto_columns": null,
            "grid_auto_flow": null,
            "grid_auto_rows": null,
            "grid_column": null,
            "grid_gap": null,
            "grid_row": null,
            "grid_template_areas": null,
            "grid_template_columns": null,
            "grid_template_rows": null,
            "height": null,
            "justify_content": null,
            "justify_items": null,
            "left": null,
            "margin": null,
            "max_height": null,
            "max_width": null,
            "min_height": null,
            "min_width": null,
            "object_fit": null,
            "object_position": null,
            "order": null,
            "overflow": null,
            "overflow_x": null,
            "overflow_y": null,
            "padding": null,
            "right": null,
            "top": null,
            "visibility": null,
            "width": null
          }
        },
        "2cf3aa3977aa4d9a9d56f95fdac49c89": {
          "model_module": "@jupyter-widgets/controls",
          "model_name": "DescriptionStyleModel",
          "model_module_version": "1.5.0",
          "state": {
            "_model_module": "@jupyter-widgets/controls",
            "_model_module_version": "1.5.0",
            "_model_name": "DescriptionStyleModel",
            "_view_count": null,
            "_view_module": "@jupyter-widgets/base",
            "_view_module_version": "1.2.0",
            "_view_name": "StyleView",
            "description_width": ""
          }
        },
        "112f5a1201544ff6b1d613a760fbc870": {
          "model_module": "@jupyter-widgets/base",
          "model_name": "LayoutModel",
          "model_module_version": "1.2.0",
          "state": {
            "_model_module": "@jupyter-widgets/base",
            "_model_module_version": "1.2.0",
            "_model_name": "LayoutModel",
            "_view_count": null,
            "_view_module": "@jupyter-widgets/base",
            "_view_module_version": "1.2.0",
            "_view_name": "LayoutView",
            "align_content": null,
            "align_items": null,
            "align_self": null,
            "border": null,
            "bottom": null,
            "display": null,
            "flex": null,
            "flex_flow": null,
            "grid_area": null,
            "grid_auto_columns": null,
            "grid_auto_flow": null,
            "grid_auto_rows": null,
            "grid_column": null,
            "grid_gap": null,
            "grid_row": null,
            "grid_template_areas": null,
            "grid_template_columns": null,
            "grid_template_rows": null,
            "height": null,
            "justify_content": null,
            "justify_items": null,
            "left": null,
            "margin": null,
            "max_height": null,
            "max_width": null,
            "min_height": null,
            "min_width": null,
            "object_fit": null,
            "object_position": null,
            "order": null,
            "overflow": null,
            "overflow_x": null,
            "overflow_y": null,
            "padding": null,
            "right": null,
            "top": null,
            "visibility": null,
            "width": null
          }
        },
        "bba4e87d65124e809ada4fdd3f1388b8": {
          "model_module": "@jupyter-widgets/controls",
          "model_name": "ProgressStyleModel",
          "model_module_version": "1.5.0",
          "state": {
            "_model_module": "@jupyter-widgets/controls",
            "_model_module_version": "1.5.0",
            "_model_name": "ProgressStyleModel",
            "_view_count": null,
            "_view_module": "@jupyter-widgets/base",
            "_view_module_version": "1.2.0",
            "_view_name": "StyleView",
            "bar_color": null,
            "description_width": ""
          }
        },
        "52b5f07d6bb54b4b8425a3482c9d1fa8": {
          "model_module": "@jupyter-widgets/base",
          "model_name": "LayoutModel",
          "model_module_version": "1.2.0",
          "state": {
            "_model_module": "@jupyter-widgets/base",
            "_model_module_version": "1.2.0",
            "_model_name": "LayoutModel",
            "_view_count": null,
            "_view_module": "@jupyter-widgets/base",
            "_view_module_version": "1.2.0",
            "_view_name": "LayoutView",
            "align_content": null,
            "align_items": null,
            "align_self": null,
            "border": null,
            "bottom": null,
            "display": null,
            "flex": null,
            "flex_flow": null,
            "grid_area": null,
            "grid_auto_columns": null,
            "grid_auto_flow": null,
            "grid_auto_rows": null,
            "grid_column": null,
            "grid_gap": null,
            "grid_row": null,
            "grid_template_areas": null,
            "grid_template_columns": null,
            "grid_template_rows": null,
            "height": null,
            "justify_content": null,
            "justify_items": null,
            "left": null,
            "margin": null,
            "max_height": null,
            "max_width": null,
            "min_height": null,
            "min_width": null,
            "object_fit": null,
            "object_position": null,
            "order": null,
            "overflow": null,
            "overflow_x": null,
            "overflow_y": null,
            "padding": null,
            "right": null,
            "top": null,
            "visibility": null,
            "width": null
          }
        },
        "9ebcbd1e5c664e41ac148af7eb2b1264": {
          "model_module": "@jupyter-widgets/controls",
          "model_name": "DescriptionStyleModel",
          "model_module_version": "1.5.0",
          "state": {
            "_model_module": "@jupyter-widgets/controls",
            "_model_module_version": "1.5.0",
            "_model_name": "DescriptionStyleModel",
            "_view_count": null,
            "_view_module": "@jupyter-widgets/base",
            "_view_module_version": "1.2.0",
            "_view_name": "StyleView",
            "description_width": ""
          }
        }
      }
    }
  },
  "nbformat": 4,
  "nbformat_minor": 0
}