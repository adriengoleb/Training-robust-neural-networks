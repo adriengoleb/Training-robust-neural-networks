{
  "cells": [
    {
      "cell_type": "markdown",
      "metadata": {
        "id": "gFWdxwqixyvS"
      },
      "source": [
        "IASD Data science Project: Attack of networks"
      ]
    },
    {
      "cell_type": "markdown",
      "metadata": {
        "id": "HV9ETJ9Uxd5_"
      },
      "source": [
        "# Import modules and data"
      ]
    },
    {
      "cell_type": "code",
      "execution_count": null,
      "metadata": {
        "id": "FLoEPnL1wx91"
      },
      "outputs": [],
      "source": [
        "import torch\n",
        "import torchvision\n",
        "import torchvision.transforms as transforms\n",
        "import torch.nn as nn\n",
        "import torch.nn.functional as F\n",
        "import torch.optim as optim\n",
        "import matplotlib.pyplot as plt\n",
        "import numpy as np\n",
        "from tqdm import tqdm\n",
        "\n",
        "device = torch.device('cuda:0' if torch.cuda.is_available() else 'cpu')\n"
      ]
    },
    {
      "cell_type": "code",
      "execution_count": null,
      "metadata": {
        "colab": {
          "base_uri": "https://localhost:8080/",
          "height": 103,
          "referenced_widgets": [
            "e9d3c114746241de957f06d63b7c6b0c",
            "a511017edc3346aeaf1609cb6b96ac89",
            "26d6b7eb5719425f9c7e72232844df17",
            "e404eae8bafd48a7aa41617c5bcb4e8a",
            "95cfcf64df774f2ca5bcb451c24973e9",
            "4137ea0f81d041d0b63ca46b6ba4a7ef",
            "0b9d189c06fc450791e5678f0b44fb7a",
            "e8faf2ff1125419b824e096112946a59",
            "6b232128b3ec4da58646bbdb1d35ef23",
            "9ccd32381ccc42888a3edd0d6a73d0b5",
            "a164aca92b4a4aca9b842c98ee1762d0"
          ]
        },
        "id": "M4aQF5n0yESx",
        "outputId": "a35332a4-5845-4655-cf71-92e5f4ec9268"
      },
      "outputs": [
        {
          "name": "stdout",
          "output_type": "stream",
          "text": [
            "Downloading https://www.cs.toronto.edu/~kriz/cifar-10-python.tar.gz to ./data/cifar-10-python.tar.gz\n"
          ]
        },
        {
          "data": {
            "application/vnd.jupyter.widget-view+json": {
              "model_id": "e9d3c114746241de957f06d63b7c6b0c",
              "version_major": 2,
              "version_minor": 0
            },
            "text/plain": [
              "  0%|          | 0/170498071 [00:00<?, ?it/s]"
            ]
          },
          "metadata": {},
          "output_type": "display_data"
        },
        {
          "name": "stdout",
          "output_type": "stream",
          "text": [
            "Extracting ./data/cifar-10-python.tar.gz to ./data\n",
            "Files already downloaded and verified\n"
          ]
        }
      ],
      "source": [
        "transform = transforms.Compose(\n",
        "    [transforms.ToTensor(),\n",
        "     transforms.Normalize((0.5, 0.5, 0.5), (0.5, 0.5, 0.5))])\n",
        "\n",
        "batch_size = 4\n",
        "\n",
        "\n",
        "train_set = torchvision.datasets.CIFAR10(root='./data', train=True,\n",
        "                                        download=True, transform=transform)\n",
        "\n",
        "train_loader = torch.utils.data.DataLoader(train_set, batch_size=batch_size,\n",
        "                                          shuffle=True, num_workers=2)\n",
        "\n",
        "test_set = torchvision.datasets.CIFAR10(root='./data', train=False,\n",
        "                                       download=True, transform=transform)\n",
        "test_loader = torch.utils.data.DataLoader(test_set, batch_size=batch_size,\n",
        "                                         shuffle=False, num_workers=2)\n",
        "\n",
        "classes = ('plane', 'car', 'bird', 'cat',\n",
        "           'deer', 'dog', 'frog', 'horse', 'ship', 'truck')"
      ]
    },
    {
      "cell_type": "markdown",
      "metadata": {
        "id": "ZOtVsyMXyjdY"
      },
      "source": [
        "## Network to attack"
      ]
    },
    {
      "cell_type": "code",
      "execution_count": null,
      "metadata": {
        "id": "N2QDs6slym6k"
      },
      "outputs": [],
      "source": [
        "class Attackme(nn.Module):\n",
        "  def __init__(self):\n",
        "    super().__init__()\n",
        "    self.conv1 = nn.Conv2d(3, 32, 5)\n",
        "    self.pool = nn.MaxPool2d(2, 2)\n",
        "    self.conv2 = nn.Conv2d(32, 64, 5)\n",
        "    #self.conv3 = nn.Conv2d(64, 128, 5)\n",
        "    self.fc1 = nn.Linear(64 * 5 * 5, 120)\n",
        "    self.fc2 = nn.Linear(120, 84)\n",
        "    self.fc3 = nn.Linear(84, 10)    \n",
        "\n",
        "  def forward(self, x):\n",
        "      x = self.pool(F.relu(self.conv1(x)))\n",
        "      x = self.pool(F.relu(self.conv2(x)))\n",
        "      #x = self.pool(F.relu(self.conv3(x)))\n",
        "      x = torch.flatten(x, 1) # flatten all dimensions except batch\n",
        "      x = F.relu(self.fc1(x))\n",
        "      x = F.relu(self.fc2(x))\n",
        "      x = self.fc3(x)\n",
        "      return x\n",
        "\n",
        "def training(model,epochs,device):\n",
        "  criterion = nn.CrossEntropyLoss()\n",
        "  optimizer = optim.Adam(model.parameters(), lr=0.001)\n",
        "\n",
        "  for ep in range(epochs):\n",
        "    running_loss = 0.0\n",
        "    for i, data in enumerate(train_loader, 0):\n",
        "\n",
        "        inputs, labels = data[0].to(device), data[1].to(device)\n",
        "        optimizer.zero_grad()\n",
        "\n",
        "        outputs = model(inputs)\n",
        "        loss = criterion(outputs, labels)\n",
        "        loss.backward()\n",
        "        optimizer.step()\n",
        "\n",
        "        # print statistics\n",
        "        running_loss += loss.item()\n",
        "        if i % 2000 == 1999:    # print every 2000 mini-batches\n",
        "            print(f'[{ep + 1}, {i + 1:5d}] loss: {running_loss / 2000:.3f}')\n",
        "            running_loss = 0.0\n"
      ]
    },
    {
      "cell_type": "markdown",
      "metadata": {
        "id": "q6z2gBzEziic"
      },
      "source": [
        "train and test"
      ]
    },
    {
      "cell_type": "code",
      "execution_count": null,
      "metadata": {
        "colab": {
          "base_uri": "https://localhost:8080/"
        },
        "id": "SCpQo-2IzgbK",
        "outputId": "f6dbc04a-232b-40a7-95c2-a03706014e58"
      },
      "outputs": [
        {
          "name": "stdout",
          "output_type": "stream",
          "text": [
            "[1,  2000] loss: 1.850\n",
            "[1,  4000] loss: 1.589\n",
            "[1,  6000] loss: 1.495\n",
            "[1,  8000] loss: 1.443\n",
            "[1, 10000] loss: 1.400\n",
            "[1, 12000] loss: 1.342\n",
            "[2,  2000] loss: 1.287\n",
            "[2,  4000] loss: 1.254\n",
            "[2,  6000] loss: 1.267\n",
            "[2,  8000] loss: 1.225\n",
            "[2, 10000] loss: 1.206\n",
            "[2, 12000] loss: 1.210\n",
            "[3,  2000] loss: 1.138\n",
            "[3,  4000] loss: 1.127\n",
            "[3,  6000] loss: 1.124\n",
            "[3,  8000] loss: 1.125\n",
            "[3, 10000] loss: 1.130\n",
            "[3, 12000] loss: 1.114\n",
            "[4,  2000] loss: 1.026\n",
            "[4,  4000] loss: 1.051\n",
            "[4,  6000] loss: 1.054\n",
            "[4,  8000] loss: 1.065\n",
            "[4, 10000] loss: 1.034\n",
            "[4, 12000] loss: 1.050\n",
            "[5,  2000] loss: 0.998\n",
            "[5,  4000] loss: 0.987\n",
            "[5,  6000] loss: 0.996\n",
            "[5,  8000] loss: 1.006\n",
            "[5, 10000] loss: 0.997\n",
            "[5, 12000] loss: 1.009\n",
            "Accu: 63 %\n"
          ]
        }
      ],
      "source": [
        "epochs = 5\n",
        "\n",
        "model=Attackme()\n",
        "model.to(device)\n",
        "training(model,epochs,device)\n",
        "\n",
        "tot = 0\n",
        "ok = 0\n",
        "\n",
        "with torch.no_grad():\n",
        "    for data in test_loader:\n",
        "        images, labels = data[0].to(device), data[1].to(device)\n",
        "        outputs = model(images)\n",
        "        _, predicted = torch.max(outputs.data, 1)\n",
        "        tot += labels.size(0)\n",
        "        ok += (predicted == labels).sum().item()\n",
        "\n",
        "print(f'Accu: {100 * ok // tot} %')\n",
        "\n"
      ]
    },
    {
      "cell_type": "markdown",
      "metadata": {
        "id": "x19O15mHqbzO"
      },
      "source": [
        "save model"
      ]
    },
    {
      "cell_type": "code",
      "execution_count": null,
      "metadata": {
        "id": "conZjmZmqbiD"
      },
      "outputs": [],
      "source": [
        "torch.save(model.state_dict(),'/content/drive/MyDrive/Projet_A2/model_A3.pth' )"
      ]
    },
    {
      "cell_type": "markdown",
      "metadata": {
        "id": "7izJ_L1iskSw"
      },
      "source": [
        "load model"
      ]
    },
    {
      "cell_type": "code",
      "execution_count": null,
      "metadata": {
        "colab": {
          "base_uri": "https://localhost:8080/"
        },
        "id": "WL_-w7zplVQ9",
        "outputId": "f0d7fd64-0c20-4f5c-873a-abb902d888e3"
      },
      "outputs": [
        {
          "name": "stdout",
          "output_type": "stream",
          "text": [
            "Mounted at /content/drive\n"
          ]
        }
      ],
      "source": [
        "from google.colab import drive\n",
        "drive.mount('/content/drive')"
      ]
    },
    {
      "cell_type": "code",
      "execution_count": null,
      "metadata": {
        "colab": {
          "base_uri": "https://localhost:8080/"
        },
        "id": "nmntkMz6slQ_",
        "outputId": "f7282d80-c3e4-4e6f-c1b5-a450899f82d0"
      },
      "outputs": [
        {
          "data": {
            "text/plain": [
              "Attackme(\n",
              "  (conv1): Conv2d(3, 32, kernel_size=(5, 5), stride=(1, 1))\n",
              "  (pool): MaxPool2d(kernel_size=2, stride=2, padding=0, dilation=1, ceil_mode=False)\n",
              "  (conv2): Conv2d(32, 64, kernel_size=(5, 5), stride=(1, 1))\n",
              "  (fc1): Linear(in_features=1600, out_features=120, bias=True)\n",
              "  (fc2): Linear(in_features=120, out_features=84, bias=True)\n",
              "  (fc3): Linear(in_features=84, out_features=10, bias=True)\n",
              ")"
            ]
          },
          "execution_count": 5,
          "metadata": {},
          "output_type": "execute_result"
        }
      ],
      "source": [
        "model = Attackme()\n",
        "model.to(device)\n",
        "model.load_state_dict(torch.load('/content/drive/MyDrive/Projet_A2/model_A3.pth'))\n",
        "model.eval()"
      ]
    },
    {
      "cell_type": "markdown",
      "metadata": {
        "id": "cymj-uT862ZF"
      },
      "source": [
        "## Atack mechanisms"
      ]
    },
    {
      "cell_type": "markdown",
      "metadata": {
        "id": "gBpHtmMx644a"
      },
      "source": [
        "FGSM"
      ]
    },
    {
      "cell_type": "code",
      "execution_count": null,
      "metadata": {
        "id": "Ee28fscU68Kb"
      },
      "outputs": [],
      "source": [
        "from torch.autograd import Variable\n",
        "\n",
        "class FGSM(object):\n",
        "  def __init__(self, model, criterion,adv_training=False,plot_ex=False):\n",
        "      self.model = model\n",
        "      self.criterion = criterion\n",
        "      self.adv_training = adv_training\n",
        "      self.plot_ex = plot_ex\n",
        "\n",
        "  def attack(self, x, y, eps, x_min=-1, x_max=1):\n",
        "\n",
        "    x2 = Variable(x,requires_grad = True)\n",
        "\n",
        "    output = self.model(x2)\n",
        "\n",
        "    pred = output.max(1, keepdim=True)[1]\n",
        "    \n",
        "    cost = self.criterion(output,y)\n",
        "\n",
        "    self.model.zero_grad()\n",
        "\n",
        "    cost.backward()\n",
        "\n",
        "    x_grad = x2.grad.data\n",
        "  \n",
        "    x_attacked = x + eps*(x_grad.sign())\n",
        "    x_attacked = torch.clamp(x_attacked,x_min,x_max)\n",
        "\n",
        "    if self.adv_training:\n",
        "      return x_attacked\n",
        "    elif self.plot_ex:\n",
        "      y_attacked = self.model(x_attacked)\n",
        "      return x_attacked,y_attacked\n",
        "    else:\n",
        "      y_attacked = self.model(x_attacked)\n",
        "      return y_attacked\n"
      ]
    },
    {
      "cell_type": "code",
      "execution_count": null,
      "metadata": {
        "colab": {
          "base_uri": "https://localhost:8080/"
        },
        "id": "-BldhgFsPfGA",
        "outputId": "e1c81fc9-868c-483b-adfb-7aafb55dc7c6"
      },
      "outputs": [
        {
          "name": "stdout",
          "output_type": "stream",
          "text": [
            "Accu: 2.37 %\n"
          ]
        }
      ],
      "source": [
        "fgsm = FGSM(model, nn.CrossEntropyLoss())\n",
        "eps = 0.3\n",
        "\n",
        "\n",
        "tot = 0\n",
        "ok = 0\n",
        "\n",
        "for images, labels in test_loader:\n",
        "  images, labels = images.to(device), labels.to(device)\n",
        "  y_attacked = fgsm.attack(images,labels,eps)\n",
        "  predicted = y_attacked.max(1, keepdim=True)[1]\n",
        "  tot += len(labels)\n",
        "  ok += (predicted.T[0] == labels).sum().item()\n",
        "\n",
        "\n",
        "print(f'Accu: {100 * ok / tot} %')"
      ]
    },
    {
      "cell_type": "markdown",
      "metadata": {
        "id": "G4jbIJRQozt4"
      },
      "source": [
        "study on epsilon"
      ]
    },
    {
      "cell_type": "markdown",
      "metadata": {
        "id": "dO3MbFyL2J5y"
      },
      "source": [
        "PGD Attack"
      ]
    },
    {
      "cell_type": "code",
      "execution_count": null,
      "metadata": {
        "id": "kZQuxEfR2YP6"
      },
      "outputs": [],
      "source": [
        "class PGD(object):\n",
        "  def __init__(self, model, criterion,adv_training=False,plot_ex=False):\n",
        "      self.model = model\n",
        "      self.criterion = criterion\n",
        "      self.adv_training = adv_training\n",
        "      self.plot_ex = plot_ex\n",
        "\n",
        "  def attack(self, x, y, eps, r=0.3, x_min=-1, x_max=1,iters=30):\n",
        "\n",
        "    x0 = x\n",
        "    \n",
        "    for i in range(iters):\n",
        "      x = Variable(x,requires_grad = True)\n",
        "      output = self.model(x)\n",
        "      pred = output.max(1, keepdim=True)[1]\n",
        "      cost = self.criterion(output,y)\n",
        "      self.model.zero_grad()\n",
        "      cost.backward()\n",
        "      x_grad = x.grad.data\n",
        "      x = x + eps*(x_grad.sign())\n",
        "      eta = torch.clamp(x-x0,min=-r,max=r)\n",
        "      x = torch.clamp(x0+eta,x_min,x_max)\n",
        "\n",
        "    if self.adv_training:\n",
        "      return x\n",
        "    elif self.plot_ex:\n",
        "      y_attacked = self.model(x)\n",
        "      return x,y_attacked\n",
        "    else:\n",
        "      y_attacked = self.model(x)\n",
        "      return y_attacked"
      ]
    },
    {
      "cell_type": "code",
      "execution_count": null,
      "metadata": {
        "id": "MD_f6kmc5XLn"
      },
      "outputs": [],
      "source": [
        "pgd = PGD(model, nn.CrossEntropyLoss())\n",
        "eps = 0.001\n",
        "\n",
        "\n",
        "tot = 0\n",
        "ok = 0\n",
        "i=0\n",
        "for images, labels in tqdm(test_loader):\n",
        "  images, labels = images.to(device), labels.to(device)\n",
        "  y_attacked = pgd.attack(images,labels,eps)\n",
        "  predicted = y_attacked.max(1, keepdim=True)[1]\n",
        "  tot += len(labels)\n",
        "  ok += (predicted.T[0] == labels).sum().item()\n",
        "  i += 1\n",
        "\n",
        "print(f'Accu: {100 * ok / tot} %')"
      ]
    },
    {
      "cell_type": "code",
      "execution_count": null,
      "metadata": {
        "id": "ajwYITQAozQu"
      },
      "outputs": [],
      "source": [
        "fgsm = FGSM(model, nn.CrossEntropyLoss())\n",
        "pgd = PGD(model, nn.CrossEntropyLoss())\n",
        "Eps = np.linspace(0,1,15)\n",
        "\n",
        "l_eps,l_acc_fgsm,l_acc_pgd = [],[],[]\n",
        "\n",
        "for eps in tqdm(Eps):\n",
        "  tot = 0\n",
        "  ok = 0\n",
        "  ok2 = 0\n",
        "\n",
        "  for images, labels in test_loader:\n",
        "    images, labels = images.to(device), labels.to(device)\n",
        "\n",
        "    y_attacked = fgsm.attack(images,labels,eps)\n",
        "    predicted = y_attacked.max(1, keepdim=True)[1]\n",
        "    tot += len(labels)\n",
        "    ok += (predicted.T[0] == labels).sum().item()\n",
        "\n",
        "    y_attacked = pgd.attack(images,labels,eps)\n",
        "    predicted = y_attacked.max(1, keepdim=True)[1]\n",
        "    ok2 += (predicted.T[0] == labels).sum().item()\n",
        "\n",
        "\n",
        "  l_eps.append(eps)\n",
        "  l_acc_fgsm.append(100 * ok / tot)\n",
        "  l_acc_pgd.append(100 * ok2 / tot)\n",
        "\n",
        "plt.figure(1)\n",
        "plt.plot(l_eps,l_acc_fgsm,label='fgsm')\n",
        "plt.plot(l_eps,l_acc_pgd,label='pgd')\n",
        "plt.grid()\n",
        "plt.legend()\n",
        "plt.xlabel('epsilon')\n",
        "plt.ylabel('accuracy (%)')\n",
        "plt.show()\n"
      ]
    },
    {
      "cell_type": "markdown",
      "metadata": {
        "id": "wjXqeYgDNAa_"
      },
      "source": [
        "plot examples"
      ]
    },
    {
      "cell_type": "code",
      "execution_count": null,
      "metadata": {
        "id": "uT32CkpTM_Wo"
      },
      "outputs": [],
      "source": [
        "def plot_ex(attack,n_ex=4,l_eps=[0,0.005,0.5]):\n",
        "\n",
        "  if attack == 'fgsm':\n",
        "    att = FGSM(model, nn.CrossEntropyLoss(),plot_ex=True)\n",
        "  else: \n",
        "    att = PGD(model, nn.CrossEntropyLoss(),plot_ex=True)\n",
        "\n",
        "  plt.figure(figsize=(8,6))\n",
        " \n",
        "  c=0\n",
        "  \n",
        "  \n",
        "  for eps in l_eps:\n",
        "    ite =0\n",
        "\n",
        "    for images, labels in test_loader:\n",
        "      ite+=1\n",
        "\n",
        "\n",
        "      if ite ==4:\n",
        "        images, labels = images.to(device), labels.to(device)\n",
        "        x_attacked,y_attacked = att.attack(images,labels,eps)\n",
        "        #x_attacked,y_attacked = images, model(images)\n",
        "        x_attacked,y_attacked = x_attacked.squeeze().detach().cpu().numpy(),y_attacked.squeeze().detach().cpu()\n",
        "        conf = F.softmax(y_attacked, dim=1)\n",
        "        conf = torch.max(conf.data, 1)[0][0]\n",
        "        predicted = y_attacked.max(1, keepdim=True)[1]\n",
        "        for i in range(len(x_attacked.data)):\n",
        "          c+=1\n",
        "          x_att = x_attacked[i]\n",
        "          plt.subplot(len(l_eps),n_ex,c)\n",
        "          plt.xticks([], [])\n",
        "          plt.yticks([], [])  \n",
        "          #if eps == l_eps[0]:\n",
        "          plt.ylabel(\"Eps: {}\".format(eps), fontsize=14)\n",
        "          plt.title(\"{} conf:{}%\".format(classes[predicted[i]],round(float(conf)*100,2)))\n",
        "          plt.imshow(x_att[0,:,:])\n",
        "\n",
        "        break\n",
        "\n",
        "  plt.tight_layout()\n",
        "  plt.show()\n",
        "  \n"
      ]
    },
    {
      "cell_type": "code",
      "execution_count": null,
      "metadata": {
        "colab": {
          "base_uri": "https://localhost:8080/",
          "height": 438
        },
        "id": "uFu-0pY-YH1X",
        "outputId": "13a9b197-2e10-4bf2-ed80-dd94411dc71f"
      },
      "outputs": [
        {
          "data": {
            "image/png": "[encoded data removed]",
            "text/plain": [
              "<Figure size 576x432 with 12 Axes>"
            ]
          },
          "metadata": {},
          "output_type": "display_data"
        }
      ],
      "source": [
        "plot_ex('fgsm')"
      ]
    },
    {
      "cell_type": "markdown",
      "metadata": {
        "id": "qw_iiqi5SjEd"
      },
      "source": [
        "## Adversarial Training"
      ]
    },
    {
      "cell_type": "markdown",
      "metadata": {
        "id": "HtDNNRRoVT_5"
      },
      "source": [
        "naive defense"
      ]
    },
    {
      "cell_type": "code",
      "execution_count": null,
      "metadata": {
        "id": "j9UDYWFCSnd-"
      },
      "outputs": [],
      "source": [
        "\n",
        "def naive_def_training(model,epochs, device, eps=0.05,train_fgsm=True, train_pgd=False,train_clean=True):\n",
        "  fgsm = FGSM(model, nn.CrossEntropyLoss(),adv_training=True)\n",
        "  pgd = PGD(model, nn.CrossEntropyLoss(),adv_training=True)\n",
        "  criterion = nn.CrossEntropyLoss()\n",
        "  optimizer = optim.Adam(model.parameters(), lr=0.001)\n",
        "\n",
        "  for ep in range(epochs):\n",
        "    running_loss = 0.0\n",
        "    for i, data in enumerate(train_loader, 0):\n",
        "\n",
        "        inputs, labels = data[0].to(device), data[1].to(device)\n",
        "\n",
        "        # FGSM Attack\n",
        "        if train_fgsm:\n",
        "          optimizer.zero_grad()\n",
        "          x_attacked = fgsm.attack(images,labels,eps)\n",
        "          outputs = model(x_attacked)\n",
        "          loss = criterion(outputs, labels)\n",
        "          loss.backward()\n",
        "          optimizer.step()\n",
        "\n",
        "        # PGD Attack\n",
        "        if train_pgd:\n",
        "          optimizer.zero_grad()\n",
        "          x_attacked = pgd.attack(images,labels,eps)\n",
        "          outputs = model(x_attacked)\n",
        "          loss = criterion(outputs, labels)\n",
        "          loss.backward()\n",
        "          optimizer.step()\n",
        "\n",
        "        if train_clean:        \n",
        "          optimizer.zero_grad()\n",
        "          outputs = model(inputs)\n",
        "          loss = criterion(outputs, labels)\n",
        "          loss.backward()\n",
        "          optimizer.step()\n",
        "\n",
        "        # print statistics\n",
        "        running_loss += loss.item()\n",
        "        if i % 2000 == 1999:    # print every 2000 mini-batches\n",
        "            print(f'[{ep + 1}, {i + 1:5d}] loss: {running_loss / 2000:.3f}')\n",
        "            running_loss = 0.0"
      ]
    },
    {
      "cell_type": "code",
      "execution_count": null,
      "metadata": {
        "colab": {
          "base_uri": "https://localhost:8080/",
          "height": 133
        },
        "id": "__WGDC5UVbH0",
        "outputId": "0f176103-876b-41db-af87-119d7b6e1d59"
      },
      "outputs": [
        {
          "ename": "IndentationError",
          "evalue": "ignored",
          "output_type": "error",
          "traceback": [
            "\u001b[0;36m  File \u001b[0;32m\"<ipython-input-10-9f9611b02f40>\"\u001b[0;36m, line \u001b[0;32m24\u001b[0m\n\u001b[0;31m    running_loss += loss.item()\u001b[0m\n\u001b[0m    ^\u001b[0m\n\u001b[0;31mIndentationError\u001b[0m\u001b[0;31m:\u001b[0m expected an indented block\n"
          ]
        }
      ],
      "source": [
        "def adv_training(model,epochs, device, eps=0.05, alpha=0.5, train_fgsm=True, train_pgd=False):\n",
        "\n",
        "  criterion = nn.CrossEntropyLoss()\n",
        "  optimizer = optim.Adam(model.parameters(), lr=0.001)\n",
        "\n",
        "  for ep in range(epochs):\n",
        "    running_loss = 0.0\n",
        "    for i, data in enumerate(train_loader, 0):\n",
        "\n",
        "        inputs, labels = data[0].to(device), data[1].to(device)\n",
        "\n",
        "        # FGSM Attack\n",
        "        if train_fgsm:\n",
        "          optimizer.zero_grad()\n",
        "          outputs = model(labels)\n",
        "          loss = alpha*criterion(outputs, labels)+(1-alpha)*criterion(outputs,)\n",
        "          loss.backward()\n",
        "          optimizer.step()\n",
        "\n",
        "        # PGD Attack\n",
        "        if train_pgd:\n",
        "\n",
        "        # print statistics\n",
        "        running_loss += loss.item()\n",
        "        if i % 2000 == 1999:    # print every 2000 mini-batches\n",
        "            print(f'[{ep + 1}, {i + 1:5d}] loss: {running_loss / 2000:.3f}')\n",
        "            running_loss = 0.0"
      ]
    },
    {
      "cell_type": "markdown",
      "metadata": {
        "id": "G2YraTPtrlFJ"
      },
      "source": [
        "test"
      ]
    },
    {
      "cell_type": "code",
      "execution_count": null,
      "metadata": {
        "colab": {
          "background_save": true
        },
        "id": "9skgX9WqrkiO"
      },
      "outputs": [],
      "source": [
        "epochs = 10\n",
        "\n",
        "adv_training(model,epochs,device,train_clean=False)\n",
        "\n",
        "\n",
        "tot = 0\n",
        "ok = 0\n",
        "\n",
        "with torch.no_grad():\n",
        "    for data in test_loader:\n",
        "        images, labels = data[0].to(device), data[1].to(device)\n",
        "        outputs = model(images)\n",
        "        _, predicted = torch.max(outputs.data, 1)\n",
        "        tot += labels.size(0)\n",
        "        ok += (predicted == labels).sum().item()\n",
        "\n",
        "print(f'Accuracy without attack: {100 * ok // tot} %')"
      ]
    },
    {
      "cell_type": "code",
      "execution_count": null,
      "metadata": {
        "colab": {
          "background_save": true
        },
        "id": "nqWEL3-9pWQg",
        "outputId": "8e862ee3-19b8-423e-d48a-9d88d4344efd"
      },
      "outputs": [
        {
          "name": "stderr",
          "output_type": "stream",
          "text": [
            "100%|██████████| 2500/2500 [02:32<00:00, 16.43it/s]"
          ]
        },
        {
          "name": "stdout",
          "output_type": "stream",
          "text": [
            "Accuracy under FGSM attack: 8 %\n",
            "Accuracy under PGD attack: 3 %\n"
          ]
        },
        {
          "name": "stderr",
          "output_type": "stream",
          "text": [
            "\n"
          ]
        }
      ],
      "source": [
        "\n",
        "fgsm = FGSM(model, nn.CrossEntropyLoss())\n",
        "pgd = PGD(model, nn.CrossEntropyLoss())\n",
        "\n",
        "\n",
        "eps = 0.05\n",
        "tot = 0\n",
        "ok = 0\n",
        "ok2 = 0\n",
        "\n",
        "for images, labels in tqdm(test_loader):\n",
        "  images, labels = images.to(device), labels.to(device)\n",
        "\n",
        "  y_attacked = fgsm.attack(images,labels,eps)\n",
        "  predicted = y_attacked.max(1, keepdim=True)[1]\n",
        "  tot += len(labels)\n",
        "  ok += (predicted.T[0] == labels).sum().item()\n",
        "\n",
        "  y_attacked = pgd.attack(images,labels,eps)\n",
        "  predicted = y_attacked.max(1, keepdim=True)[1]\n",
        "  ok2 += (predicted.T[0] == labels).sum().item()\n",
        "\n",
        "\n",
        "print(f'Accuracy under FGSM attack: {100 * ok // tot} %')\n",
        "print(f'Accuracy under PGD attack: {100 * ok2 // tot} %')\n",
        "\n",
        "\n"
      ]
    },
    {
      "cell_type": "markdown",
      "metadata": {
        "id": "tERTrtXQqP1V"
      },
      "source": [
        "test:\n",
        "\n",
        "without adv training:\n",
        "  base accuracy : 65%\n",
        "  under FGSM attack: 9.64%\n",
        "  under PGD attack: 0.00%\n",
        "\n",
        "with adv training on FGSM:\n",
        "  base accuracy : 63%\n",
        "  under FGSM attack: %\n",
        "  under PGD attack: %\n",
        "\n",
        "with adv training on PGD:\n",
        "  base accuracy : %\n",
        "  under FGSM attack: %\n",
        "  under PGD attack: %\n",
        "\n",
        "with adv training on FGSM and PGD:\n",
        "  base accuracy : %\n",
        "  under FGSM attack: %\n",
        "  under PGD attack: %\n",
        "\n"
      ]
    },
    {
      "cell_type": "markdown",
      "metadata": {
        "id": "unfKdCRWY0j6"
      },
      "source": [
        "## Denoiser"
      ]
    },
    {
      "cell_type": "markdown",
      "metadata": {
        "id": "5jr0Bx14avGl"
      },
      "source": [
        "DnCNN"
      ]
    },
    {
      "cell_type": "code",
      "execution_count": null,
      "metadata": {
        "id": "oqKbywQOY198"
      },
      "outputs": [],
      "source": [
        "class Denoiser(nn.Module):\n",
        "  def __init__(self,hid=10):\n",
        "    super().__init__()\n",
        "    self.conv1 = nn.Conv2d(in_channels=3, out_channels=64, kernel_size=3,padding=1,bias=False)\n",
        "    hid_layers=[]\n",
        "    for i in range(hid):\n",
        "      hid_layers.append(nn.Conv2d(in_channels=64,out_channels=64,kernel_size=3,padding=1,bias=False))\n",
        "      hid_layers.append(nn.BatchNorm2d(64))\n",
        "      hid_layers.append(nn.ReLU(inplace=True))\n",
        "    self.hidden_layers = nn.Sequential(*hid_layers)\n",
        "\n",
        "    self.conv3 = nn.Conv2d(in_channels=64,out_channels=3,kernel_size=3,padding=1,bias=False)\n",
        "\n",
        "  def forward(self, x):\n",
        "      x = nn.ReLU(inplace=True)(self.conv1(x))\n",
        "      x = self.hidden_layers(x)\n",
        "      x = self.conv3(x)\n",
        "      return x\n",
        "\n",
        "def training_denoiser(model,epochs,device,noise_dataset):\n",
        "  criterion = nn.MSELoss()\n",
        "  optimizer = optim.Adam(model.parameters(), lr=0.001)\n",
        "\n",
        "  for ep in range(epochs):\n",
        "    running_loss = 0.0\n",
        "    for i, data in enumerate(noise_dataset, 0):\n",
        "\n",
        "        clean, noisy = data[0][0].to(device), data[1][0].to(device)\n",
        "        optimizer.zero_grad()\n",
        "\n",
        "        outputs = model(clean)\n",
        "        loss = criterion(outputs, noisy)\n",
        "        loss.backward()\n",
        "        optimizer.step()\n",
        "\n",
        "        # print statistics\n",
        "        running_loss += loss.item()\n",
        "        if i % 2000 == 1999:    # print every 2000 mini-batches\n",
        "            print(f'[{ep + 1}, {i + 1:5d}] loss: {running_loss / 2000:.3f}')\n",
        "            running_loss = 0.0\n",
        "\n",
        "def training_denoiser2(model,epochs,device,att,eps=0.05):\n",
        "  criterion = nn.MSELoss()\n",
        "  optimizer = optim.Adam(model.parameters(), lr=0.001)\n",
        "\n",
        "  for ep in range(epochs):\n",
        "    running_loss = 0.0\n",
        "    for i, data in enumerate(train_loader, 0):\n",
        "\n",
        "        inputs, labels = data[0].to(device), data[1].to(device)\n",
        "        optimizer.zero_grad()\n",
        "        \n",
        "        x_attacked = att.attack(inputs,labels,eps)\n",
        "        outputs = model(x_attacked)\n",
        "        loss = criterion(outputs,inputs)\n",
        "        loss.backward()\n",
        "        optimizer.step()\n",
        "\n",
        "        # print statistics\n",
        "        running_loss += loss.item()\n",
        "        if i % 2000 == 1999:    # print every 2000 mini-batches\n",
        "            print(f'[{ep + 1}, {i + 1:5d}] loss: {running_loss / 2000:.3f}')\n",
        "            running_loss = 0.0\n"
      ]
    },
    {
      "cell_type": "code",
      "execution_count": null,
      "metadata": {
        "id": "M6OfS5r8hAV6"
      },
      "outputs": [],
      "source": [
        "class combined(nn.Module):\n",
        "  def __init__(self,model,denoiser):\n",
        "     super().__init__()\n",
        "     self.model = model\n",
        "     self.denoiser = denoiser\n",
        "\n",
        "  def forward(self,x):\n",
        "    x_clean=self.denoiser.forward(x)\n",
        "    out = self.model.forward(x_clean)\n",
        "    return out"
      ]
    },
    {
      "cell_type": "code",
      "execution_count": null,
      "metadata": {
        "id": "agIsb4bdbHxg"
      },
      "outputs": [],
      "source": [
        "denoiser = Denoiser(hid=18)"
      ]
    },
    {
      "cell_type": "markdown",
      "metadata": {
        "id": "eaDaaeLNdGRw"
      },
      "source": [
        "train the denoiser"
      ]
    },
    {
      "cell_type": "code",
      "execution_count": null,
      "metadata": {
        "colab": {
          "background_save": true,
          "base_uri": "https://localhost:8080/"
        },
        "id": "lVQlU_s_dF-T",
        "outputId": "11736c11-caad-4c21-d897-97808f397e7a"
      },
      "outputs": [
        {
          "name": "stdout",
          "output_type": "stream",
          "text": [
            "[1,  2000] loss: 0.050\n",
            "[1,  4000] loss: 0.032\n",
            "[1,  6000] loss: 0.029\n",
            "[1,  8000] loss: 0.024\n",
            "[1, 10000] loss: 0.022\n",
            "[1, 12000] loss: 0.019\n",
            "[2,  2000] loss: 0.017\n",
            "[2,  4000] loss: 0.015\n",
            "[2,  6000] loss: 0.014\n",
            "[2,  8000] loss: 0.014\n",
            "[2, 10000] loss: 0.013\n",
            "[2, 12000] loss: 0.012\n",
            "[3,  2000] loss: 0.012\n",
            "[3,  4000] loss: 0.011\n",
            "[3,  6000] loss: 0.011\n",
            "[3,  8000] loss: 0.011\n",
            "[3, 10000] loss: 0.010\n",
            "[3, 12000] loss: 0.010\n",
            "[4,  2000] loss: 0.010\n",
            "[4,  4000] loss: 0.010\n",
            "[4,  6000] loss: 0.010\n",
            "[4,  8000] loss: 0.009\n",
            "[4, 10000] loss: 0.009\n",
            "[4, 12000] loss: 0.009\n",
            "[5,  2000] loss: 0.009\n",
            "[5,  4000] loss: 0.009\n",
            "[5,  6000] loss: 0.009\n",
            "[5,  8000] loss: 0.009\n",
            "[5, 10000] loss: 0.009\n",
            "[5, 12000] loss: 0.008\n",
            "[6,  2000] loss: 0.008\n",
            "[6,  4000] loss: 0.008\n",
            "[6,  6000] loss: 0.008\n",
            "[6,  8000] loss: 0.008\n",
            "[6, 10000] loss: 0.008\n",
            "[6, 12000] loss: 0.008\n",
            "[7,  2000] loss: 0.008\n",
            "[7,  4000] loss: 0.008\n",
            "[7,  6000] loss: 0.008\n",
            "[7,  8000] loss: 0.008\n",
            "[7, 10000] loss: 0.008\n",
            "[7, 12000] loss: 0.007\n",
            "[8,  2000] loss: 0.008\n",
            "[8,  4000] loss: 0.008\n",
            "[8,  6000] loss: 0.007\n",
            "[8,  8000] loss: 0.007\n",
            "[8, 10000] loss: 0.007\n",
            "[8, 12000] loss: 0.007\n",
            "[9,  2000] loss: 0.007\n",
            "[9,  4000] loss: 0.007\n",
            "[9,  6000] loss: 0.007\n",
            "[9,  8000] loss: 0.008\n",
            "[9, 10000] loss: 0.007\n",
            "[9, 12000] loss: 0.007\n",
            "[10,  2000] loss: 0.007\n",
            "[10,  4000] loss: 0.007\n",
            "[10,  6000] loss: 0.007\n",
            "[10,  8000] loss: 0.007\n",
            "[10, 10000] loss: 0.007\n",
            "[10, 12000] loss: 0.007\n"
          ]
        }
      ],
      "source": [
        "denoiser.to(device)\n",
        "att = PGD(model, nn.CrossEntropyLoss(),adv_training=True)\n",
        "training_denoiser2(denoiser,10,device,att,eps=0.05)"
      ]
    },
    {
      "cell_type": "code",
      "execution_count": null,
      "metadata": {
        "colab": {
          "base_uri": "https://localhost:8080/",
          "height": 318
        },
        "id": "Jj3jj3d_rPYl",
        "outputId": "19832933-4320-47bc-b1b2-ccaf1cdaabfb"
      },
      "outputs": [
        {
          "ename": "KeyboardInterrupt",
          "evalue": "ignored",
          "output_type": "error",
          "traceback": [
            "\u001b[0;31m---------------------------------------------------------------------------\u001b[0m",
            "\u001b[0;31mKeyboardInterrupt\u001b[0m                         Traceback (most recent call last)",
            "\u001b[0;32m<ipython-input-35-e6d6303f3301>\u001b[0m in \u001b[0;36m<module>\u001b[0;34m\u001b[0m\n\u001b[0;32m----> 1\u001b[0;31m \u001b[0mtraining_denoiser2\u001b[0m\u001b[0;34m(\u001b[0m\u001b[0mdenoiser\u001b[0m\u001b[0;34m,\u001b[0m\u001b[0;36m5\u001b[0m\u001b[0;34m,\u001b[0m\u001b[0mdevice\u001b[0m\u001b[0;34m,\u001b[0m\u001b[0matt\u001b[0m\u001b[0;34m,\u001b[0m\u001b[0meps\u001b[0m\u001b[0;34m=\u001b[0m\u001b[0;36m0.15\u001b[0m\u001b[0;34m)\u001b[0m\u001b[0;34m\u001b[0m\u001b[0;34m\u001b[0m\u001b[0m\n\u001b[0m",
            "\u001b[0;32m<ipython-input-9-1adf6d43570b>\u001b[0m in \u001b[0;36mtraining_denoiser2\u001b[0;34m(model, epochs, device, att, eps)\u001b[0m\n\u001b[1;32m     52\u001b[0m \u001b[0;34m\u001b[0m\u001b[0m\n\u001b[1;32m     53\u001b[0m         \u001b[0mx_attacked\u001b[0m \u001b[0;34m=\u001b[0m \u001b[0matt\u001b[0m\u001b[0;34m.\u001b[0m\u001b[0mattack\u001b[0m\u001b[0;34m(\u001b[0m\u001b[0minputs\u001b[0m\u001b[0;34m,\u001b[0m\u001b[0mlabels\u001b[0m\u001b[0;34m,\u001b[0m\u001b[0meps\u001b[0m\u001b[0;34m)\u001b[0m\u001b[0;34m\u001b[0m\u001b[0;34m\u001b[0m\u001b[0m\n\u001b[0;32m---> 54\u001b[0;31m         \u001b[0moutputs\u001b[0m \u001b[0;34m=\u001b[0m \u001b[0mmodel\u001b[0m\u001b[0;34m(\u001b[0m\u001b[0mx_attacked\u001b[0m\u001b[0;34m)\u001b[0m\u001b[0;34m\u001b[0m\u001b[0;34m\u001b[0m\u001b[0m\n\u001b[0m\u001b[1;32m     55\u001b[0m         \u001b[0mloss\u001b[0m \u001b[0;34m=\u001b[0m \u001b[0mcriterion\u001b[0m\u001b[0;34m(\u001b[0m\u001b[0moutputs\u001b[0m\u001b[0;34m,\u001b[0m\u001b[0minputs\u001b[0m\u001b[0;34m)\u001b[0m\u001b[0;34m\u001b[0m\u001b[0;34m\u001b[0m\u001b[0m\n\u001b[1;32m     56\u001b[0m         \u001b[0mloss\u001b[0m\u001b[0;34m.\u001b[0m\u001b[0mbackward\u001b[0m\u001b[0;34m(\u001b[0m\u001b[0;34m)\u001b[0m\u001b[0;34m\u001b[0m\u001b[0;34m\u001b[0m\u001b[0m\n",
            "\u001b[0;32m/usr/local/lib/python3.8/dist-packages/torch/nn/modules/module.py\u001b[0m in \u001b[0;36m_call_impl\u001b[0;34m(self, *input, **kwargs)\u001b[0m\n\u001b[1;32m   1188\u001b[0m         if not (self._backward_hooks or self._forward_hooks or self._forward_pre_hooks or _global_backward_hooks\n\u001b[1;32m   1189\u001b[0m                 or _global_forward_hooks or _global_forward_pre_hooks):\n\u001b[0;32m-> 1190\u001b[0;31m             \u001b[0;32mreturn\u001b[0m \u001b[0mforward_call\u001b[0m\u001b[0;34m(\u001b[0m\u001b[0;34m*\u001b[0m\u001b[0minput\u001b[0m\u001b[0;34m,\u001b[0m \u001b[0;34m**\u001b[0m\u001b[0mkwargs\u001b[0m\u001b[0;34m)\u001b[0m\u001b[0;34m\u001b[0m\u001b[0;34m\u001b[0m\u001b[0m\n\u001b[0m\u001b[1;32m   1191\u001b[0m         \u001b[0;31m# Do not call functions when jit is used\u001b[0m\u001b[0;34m\u001b[0m\u001b[0;34m\u001b[0m\u001b[0;34m\u001b[0m\u001b[0m\n\u001b[1;32m   1192\u001b[0m         \u001b[0mfull_backward_hooks\u001b[0m\u001b[0;34m,\u001b[0m \u001b[0mnon_full_backward_hooks\u001b[0m \u001b[0;34m=\u001b[0m \u001b[0;34m[\u001b[0m\u001b[0;34m]\u001b[0m\u001b[0;34m,\u001b[0m \u001b[0;34m[\u001b[0m\u001b[0;34m]\u001b[0m\u001b[0;34m\u001b[0m\u001b[0;34m\u001b[0m\u001b[0m\n",
            "\u001b[0;32m<ipython-input-9-1adf6d43570b>\u001b[0m in \u001b[0;36mforward\u001b[0;34m(self, x)\u001b[0m\n\u001b[1;32m     14\u001b[0m   \u001b[0;32mdef\u001b[0m \u001b[0mforward\u001b[0m\u001b[0;34m(\u001b[0m\u001b[0mself\u001b[0m\u001b[0;34m,\u001b[0m \u001b[0mx\u001b[0m\u001b[0;34m)\u001b[0m\u001b[0;34m:\u001b[0m\u001b[0;34m\u001b[0m\u001b[0;34m\u001b[0m\u001b[0m\n\u001b[1;32m     15\u001b[0m       \u001b[0mx\u001b[0m \u001b[0;34m=\u001b[0m \u001b[0mnn\u001b[0m\u001b[0;34m.\u001b[0m\u001b[0mReLU\u001b[0m\u001b[0;34m(\u001b[0m\u001b[0minplace\u001b[0m\u001b[0;34m=\u001b[0m\u001b[0;32mTrue\u001b[0m\u001b[0;34m)\u001b[0m\u001b[0;34m(\u001b[0m\u001b[0mself\u001b[0m\u001b[0;34m.\u001b[0m\u001b[0mconv1\u001b[0m\u001b[0;34m(\u001b[0m\u001b[0mx\u001b[0m\u001b[0;34m)\u001b[0m\u001b[0;34m)\u001b[0m\u001b[0;34m\u001b[0m\u001b[0;34m\u001b[0m\u001b[0m\n\u001b[0;32m---> 16\u001b[0;31m       \u001b[0mx\u001b[0m \u001b[0;34m=\u001b[0m \u001b[0mself\u001b[0m\u001b[0;34m.\u001b[0m\u001b[0mhidden_layers\u001b[0m\u001b[0;34m(\u001b[0m\u001b[0mx\u001b[0m\u001b[0;34m)\u001b[0m\u001b[0;34m\u001b[0m\u001b[0;34m\u001b[0m\u001b[0m\n\u001b[0m\u001b[1;32m     17\u001b[0m       \u001b[0mx\u001b[0m \u001b[0;34m=\u001b[0m \u001b[0mself\u001b[0m\u001b[0;34m.\u001b[0m\u001b[0mconv3\u001b[0m\u001b[0;34m(\u001b[0m\u001b[0mx\u001b[0m\u001b[0;34m)\u001b[0m\u001b[0;34m\u001b[0m\u001b[0;34m\u001b[0m\u001b[0m\n\u001b[1;32m     18\u001b[0m       \u001b[0;32mreturn\u001b[0m \u001b[0mx\u001b[0m\u001b[0;34m\u001b[0m\u001b[0;34m\u001b[0m\u001b[0m\n",
            "\u001b[0;32m/usr/local/lib/python3.8/dist-packages/torch/nn/modules/module.py\u001b[0m in \u001b[0;36m_call_impl\u001b[0;34m(self, *input, **kwargs)\u001b[0m\n\u001b[1;32m   1188\u001b[0m         if not (self._backward_hooks or self._forward_hooks or self._forward_pre_hooks or _global_backward_hooks\n\u001b[1;32m   1189\u001b[0m                 or _global_forward_hooks or _global_forward_pre_hooks):\n\u001b[0;32m-> 1190\u001b[0;31m             \u001b[0;32mreturn\u001b[0m \u001b[0mforward_call\u001b[0m\u001b[0;34m(\u001b[0m\u001b[0;34m*\u001b[0m\u001b[0minput\u001b[0m\u001b[0;34m,\u001b[0m \u001b[0;34m**\u001b[0m\u001b[0mkwargs\u001b[0m\u001b[0;34m)\u001b[0m\u001b[0;34m\u001b[0m\u001b[0;34m\u001b[0m\u001b[0m\n\u001b[0m\u001b[1;32m   1191\u001b[0m         \u001b[0;31m# Do not call functions when jit is used\u001b[0m\u001b[0;34m\u001b[0m\u001b[0;34m\u001b[0m\u001b[0;34m\u001b[0m\u001b[0m\n\u001b[1;32m   1192\u001b[0m         \u001b[0mfull_backward_hooks\u001b[0m\u001b[0;34m,\u001b[0m \u001b[0mnon_full_backward_hooks\u001b[0m \u001b[0;34m=\u001b[0m \u001b[0;34m[\u001b[0m\u001b[0;34m]\u001b[0m\u001b[0;34m,\u001b[0m \u001b[0;34m[\u001b[0m\u001b[0;34m]\u001b[0m\u001b[0;34m\u001b[0m\u001b[0;34m\u001b[0m\u001b[0m\n",
            "\u001b[0;32m/usr/local/lib/python3.8/dist-packages/torch/nn/modules/container.py\u001b[0m in \u001b[0;36mforward\u001b[0;34m(self, input)\u001b[0m\n\u001b[1;32m    202\u001b[0m     \u001b[0;32mdef\u001b[0m \u001b[0mforward\u001b[0m\u001b[0;34m(\u001b[0m\u001b[0mself\u001b[0m\u001b[0;34m,\u001b[0m \u001b[0minput\u001b[0m\u001b[0;34m)\u001b[0m\u001b[0;34m:\u001b[0m\u001b[0;34m\u001b[0m\u001b[0;34m\u001b[0m\u001b[0m\n\u001b[1;32m    203\u001b[0m         \u001b[0;32mfor\u001b[0m \u001b[0mmodule\u001b[0m \u001b[0;32min\u001b[0m \u001b[0mself\u001b[0m\u001b[0;34m:\u001b[0m\u001b[0;34m\u001b[0m\u001b[0;34m\u001b[0m\u001b[0m\n\u001b[0;32m--> 204\u001b[0;31m             \u001b[0minput\u001b[0m \u001b[0;34m=\u001b[0m \u001b[0mmodule\u001b[0m\u001b[0;34m(\u001b[0m\u001b[0minput\u001b[0m\u001b[0;34m)\u001b[0m\u001b[0;34m\u001b[0m\u001b[0;34m\u001b[0m\u001b[0m\n\u001b[0m\u001b[1;32m    205\u001b[0m         \u001b[0;32mreturn\u001b[0m \u001b[0minput\u001b[0m\u001b[0;34m\u001b[0m\u001b[0;34m\u001b[0m\u001b[0m\n\u001b[1;32m    206\u001b[0m \u001b[0;34m\u001b[0m\u001b[0m\n",
            "\u001b[0;32m/usr/local/lib/python3.8/dist-packages/torch/nn/modules/module.py\u001b[0m in \u001b[0;36m_call_impl\u001b[0;34m(self, *input, **kwargs)\u001b[0m\n\u001b[1;32m   1188\u001b[0m         if not (self._backward_hooks or self._forward_hooks or self._forward_pre_hooks or _global_backward_hooks\n\u001b[1;32m   1189\u001b[0m                 or _global_forward_hooks or _global_forward_pre_hooks):\n\u001b[0;32m-> 1190\u001b[0;31m             \u001b[0;32mreturn\u001b[0m \u001b[0mforward_call\u001b[0m\u001b[0;34m(\u001b[0m\u001b[0;34m*\u001b[0m\u001b[0minput\u001b[0m\u001b[0;34m,\u001b[0m \u001b[0;34m**\u001b[0m\u001b[0mkwargs\u001b[0m\u001b[0;34m)\u001b[0m\u001b[0;34m\u001b[0m\u001b[0;34m\u001b[0m\u001b[0m\n\u001b[0m\u001b[1;32m   1191\u001b[0m         \u001b[0;31m# Do not call functions when jit is used\u001b[0m\u001b[0;34m\u001b[0m\u001b[0;34m\u001b[0m\u001b[0;34m\u001b[0m\u001b[0m\n\u001b[1;32m   1192\u001b[0m         \u001b[0mfull_backward_hooks\u001b[0m\u001b[0;34m,\u001b[0m \u001b[0mnon_full_backward_hooks\u001b[0m \u001b[0;34m=\u001b[0m \u001b[0;34m[\u001b[0m\u001b[0;34m]\u001b[0m\u001b[0;34m,\u001b[0m \u001b[0;34m[\u001b[0m\u001b[0;34m]\u001b[0m\u001b[0;34m\u001b[0m\u001b[0;34m\u001b[0m\u001b[0m\n",
            "\u001b[0;32m/usr/local/lib/python3.8/dist-packages/torch/nn/modules/activation.py\u001b[0m in \u001b[0;36mforward\u001b[0;34m(self, input)\u001b[0m\n\u001b[1;32m    100\u001b[0m \u001b[0;34m\u001b[0m\u001b[0m\n\u001b[1;32m    101\u001b[0m     \u001b[0;32mdef\u001b[0m \u001b[0mforward\u001b[0m\u001b[0;34m(\u001b[0m\u001b[0mself\u001b[0m\u001b[0;34m,\u001b[0m \u001b[0minput\u001b[0m\u001b[0;34m:\u001b[0m \u001b[0mTensor\u001b[0m\u001b[0;34m)\u001b[0m \u001b[0;34m->\u001b[0m \u001b[0mTensor\u001b[0m\u001b[0;34m:\u001b[0m\u001b[0;34m\u001b[0m\u001b[0;34m\u001b[0m\u001b[0m\n\u001b[0;32m--> 102\u001b[0;31m         \u001b[0;32mreturn\u001b[0m \u001b[0mF\u001b[0m\u001b[0;34m.\u001b[0m\u001b[0mrelu\u001b[0m\u001b[0;34m(\u001b[0m\u001b[0minput\u001b[0m\u001b[0;34m,\u001b[0m \u001b[0minplace\u001b[0m\u001b[0;34m=\u001b[0m\u001b[0mself\u001b[0m\u001b[0;34m.\u001b[0m\u001b[0minplace\u001b[0m\u001b[0;34m)\u001b[0m\u001b[0;34m\u001b[0m\u001b[0;34m\u001b[0m\u001b[0m\n\u001b[0m\u001b[1;32m    103\u001b[0m \u001b[0;34m\u001b[0m\u001b[0m\n\u001b[1;32m    104\u001b[0m     \u001b[0;32mdef\u001b[0m \u001b[0mextra_repr\u001b[0m\u001b[0;34m(\u001b[0m\u001b[0mself\u001b[0m\u001b[0;34m)\u001b[0m \u001b[0;34m->\u001b[0m \u001b[0mstr\u001b[0m\u001b[0;34m:\u001b[0m\u001b[0;34m\u001b[0m\u001b[0;34m\u001b[0m\u001b[0m\n",
            "\u001b[0;32m/usr/local/lib/python3.8/dist-packages/torch/nn/functional.py\u001b[0m in \u001b[0;36mrelu\u001b[0;34m(input, inplace)\u001b[0m\n\u001b[1;32m   1453\u001b[0m         \u001b[0;32mreturn\u001b[0m \u001b[0mhandle_torch_function\u001b[0m\u001b[0;34m(\u001b[0m\u001b[0mrelu\u001b[0m\u001b[0;34m,\u001b[0m \u001b[0;34m(\u001b[0m\u001b[0minput\u001b[0m\u001b[0;34m,\u001b[0m\u001b[0;34m)\u001b[0m\u001b[0;34m,\u001b[0m \u001b[0minput\u001b[0m\u001b[0;34m,\u001b[0m \u001b[0minplace\u001b[0m\u001b[0;34m=\u001b[0m\u001b[0minplace\u001b[0m\u001b[0;34m)\u001b[0m\u001b[0;34m\u001b[0m\u001b[0;34m\u001b[0m\u001b[0m\n\u001b[1;32m   1454\u001b[0m     \u001b[0;32mif\u001b[0m \u001b[0minplace\u001b[0m\u001b[0;34m:\u001b[0m\u001b[0;34m\u001b[0m\u001b[0;34m\u001b[0m\u001b[0m\n\u001b[0;32m-> 1455\u001b[0;31m         \u001b[0mresult\u001b[0m \u001b[0;34m=\u001b[0m \u001b[0mtorch\u001b[0m\u001b[0;34m.\u001b[0m\u001b[0mrelu_\u001b[0m\u001b[0;34m(\u001b[0m\u001b[0minput\u001b[0m\u001b[0;34m)\u001b[0m\u001b[0;34m\u001b[0m\u001b[0;34m\u001b[0m\u001b[0m\n\u001b[0m\u001b[1;32m   1456\u001b[0m     \u001b[0;32melse\u001b[0m\u001b[0;34m:\u001b[0m\u001b[0;34m\u001b[0m\u001b[0;34m\u001b[0m\u001b[0m\n\u001b[1;32m   1457\u001b[0m         \u001b[0mresult\u001b[0m \u001b[0;34m=\u001b[0m \u001b[0mtorch\u001b[0m\u001b[0;34m.\u001b[0m\u001b[0mrelu\u001b[0m\u001b[0;34m(\u001b[0m\u001b[0minput\u001b[0m\u001b[0;34m)\u001b[0m\u001b[0;34m\u001b[0m\u001b[0;34m\u001b[0m\u001b[0m\n",
            "\u001b[0;31mKeyboardInterrupt\u001b[0m: "
          ]
        }
      ],
      "source": [
        "training_denoiser2(denoiser,5,device,att,eps=0.15)"
      ]
    },
    {
      "cell_type": "markdown",
      "metadata": {
        "id": "oSZbPbScpkND"
      },
      "source": [
        "test the denoiser"
      ]
    },
    {
      "cell_type": "code",
      "execution_count": null,
      "metadata": {
        "colab": {
          "background_save": true
        },
        "id": "dsGOqoEth0D3"
      },
      "outputs": [],
      "source": [
        "## combine the two CNNS\n",
        "full_model = combined(model,denoiser)"
      ]
    },
    {
      "cell_type": "code",
      "execution_count": null,
      "metadata": {
        "colab": {
          "background_save": true
        },
        "id": "kGyFFJmxpXG-",
        "outputId": "723d6ee0-2742-4ccd-f390-8fbbbabdc5b6"
      },
      "outputs": [
        {
          "name": "stdout",
          "output_type": "stream",
          "text": [
            "Accu: 7.96 %\n"
          ]
        }
      ],
      "source": [
        "fgsm = PGD(full_model, nn.CrossEntropyLoss(),adv_training=True)\n",
        "eps = 0.05\n",
        "\n",
        "\n",
        "tot = 0\n",
        "ok = 0\n",
        "\n",
        "for images, labels in test_loader:\n",
        "  images, labels = images.to(device), labels.to(device)\n",
        "  x_attacked = fgsm.attack(images,labels,eps)\n",
        "  #x_denoised = denoiser(x_attacked)\n",
        "  y_pred = full_model(x_attacked)\n",
        "  predicted = y_pred.max(1, keepdim=True)[1]\n",
        "  tot += len(labels)\n",
        "  ok += (predicted.T[0] == labels).sum().item()\n",
        "\n",
        "\n",
        "print(f'Accu: {100 * ok / tot} %')"
      ]
    },
    {
      "cell_type": "code",
      "execution_count": null,
      "metadata": {
        "id": "bAl_1NZXcVAh"
      },
      "outputs": [],
      "source": [
        "torch.save(model.state_dict(),'/content/drive/MyDrive/Projet_A2/model_A3_denoiser_015.pth' )"
      ]
    },
    {
      "cell_type": "markdown",
      "metadata": {
        "id": "Iy-lN6i8q4su"
      },
      "source": [
        "test FGSM:\n",
        "without denoiser: 9.96%\n",
        "\n",
        "eps 0.05 10 epoch: 27.88%\n",
        "eps 0.15\n"
      ]
    }
  ],
  "metadata": {
    "accelerator": "GPU",
    "colab": {
      "provenance": []
    },
    "gpuClass": "standard",
    "kernelspec": {
      "display_name": "Python 3",
      "name": "python3"
    },
    "language_info": {
      "name": "python"
    },
    "widgets": {
      "application/vnd.jupyter.widget-state+json": {
        "0b9d189c06fc450791e5678f0b44fb7a": {
          "model_module": "@jupyter-widgets/controls",
          "model_module_version": "1.5.0",
          "model_name": "DescriptionStyleModel",
          "state": {
            "_model_module": "@jupyter-widgets/controls",
            "_model_module_version": "1.5.0",
            "_model_name": "DescriptionStyleModel",
            "_view_count": null,
            "_view_module": "@jupyter-widgets/base",
            "_view_module_version": "1.2.0",
            "_view_name": "StyleView",
            "description_width": ""
          }
        },
        "26d6b7eb5719425f9c7e72232844df17": {
          "model_module": "@jupyter-widgets/controls",
          "model_module_version": "1.5.0",
          "model_name": "FloatProgressModel",
          "state": {
            "_dom_classes": [],
            "_model_module": "@jupyter-widgets/controls",
            "_model_module_version": "1.5.0",
            "_model_name": "FloatProgressModel",
            "_view_count": null,
            "_view_module": "@jupyter-widgets/controls",
            "_view_module_version": "1.5.0",
            "_view_name": "ProgressView",
            "bar_style": "success",
            "description": "",
            "description_tooltip": null,
            "layout": "IPY_MODEL_e8faf2ff1125419b824e096112946a59",
            "max": 170498071,
            "min": 0,
            "orientation": "horizontal",
            "style": "IPY_MODEL_6b232128b3ec4da58646bbdb1d35ef23",
            "value": 170498071
          }
        },
        "4137ea0f81d041d0b63ca46b6ba4a7ef": {
          "model_module": "@jupyter-widgets/base",
          "model_module_version": "1.2.0",
          "model_name": "LayoutModel",
          "state": {
            "_model_module": "@jupyter-widgets/base",
            "_model_module_version": "1.2.0",
            "_model_name": "LayoutModel",
            "_view_count": null,
            "_view_module": "@jupyter-widgets/base",
            "_view_module_version": "1.2.0",
            "_view_name": "LayoutView",
            "align_content": null,
            "align_items": null,
            "align_self": null,
            "border": null,
            "bottom": null,
            "display": null,
            "flex": null,
            "flex_flow": null,
            "grid_area": null,
            "grid_auto_columns": null,
            "grid_auto_flow": null,
            "grid_auto_rows": null,
            "grid_column": null,
            "grid_gap": null,
            "grid_row": null,
            "grid_template_areas": null,
            "grid_template_columns": null,
            "grid_template_rows": null,
            "height": null,
            "justify_content": null,
            "justify_items": null,
            "left": null,
            "margin": null,
            "max_height": null,
            "max_width": null,
            "min_height": null,
            "min_width": null,
            "object_fit": null,
            "object_position": null,
            "order": null,
            "overflow": null,
            "overflow_x": null,
            "overflow_y": null,
            "padding": null,
            "right": null,
            "top": null,
            "visibility": null,
            "width": null
          }
        },
        "6b232128b3ec4da58646bbdb1d35ef23": {
          "model_module": "@jupyter-widgets/controls",
          "model_module_version": "1.5.0",
          "model_name": "ProgressStyleModel",
          "state": {
            "_model_module": "@jupyter-widgets/controls",
            "_model_module_version": "1.5.0",
            "_model_name": "ProgressStyleModel",
            "_view_count": null,
            "_view_module": "@jupyter-widgets/base",
            "_view_module_version": "1.2.0",
            "_view_name": "StyleView",
            "bar_color": null,
            "description_width": ""
          }
        },
        "95cfcf64df774f2ca5bcb451c24973e9": {
          "model_module": "@jupyter-widgets/base",
          "model_module_version": "1.2.0",
          "model_name": "LayoutModel",
          "state": {
            "_model_module": "@jupyter-widgets/base",
            "_model_module_version": "1.2.0",
            "_model_name": "LayoutModel",
            "_view_count": null,
            "_view_module": "@jupyter-widgets/base",
            "_view_module_version": "1.2.0",
            "_view_name": "LayoutView",
            "align_content": null,
            "align_items": null,
            "align_self": null,
            "border": null,
            "bottom": null,
            "display": null,
            "flex": null,
            "flex_flow": null,
            "grid_area": null,
            "grid_auto_columns": null,
            "grid_auto_flow": null,
            "grid_auto_rows": null,
            "grid_column": null,
            "grid_gap": null,
            "grid_row": null,
            "grid_template_areas": null,
            "grid_template_columns": null,
            "grid_template_rows": null,
            "height": null,
            "justify_content": null,
            "justify_items": null,
            "left": null,
            "margin": null,
            "max_height": null,
            "max_width": null,
            "min_height": null,
            "min_width": null,
            "object_fit": null,
            "object_position": null,
            "order": null,
            "overflow": null,
            "overflow_x": null,
            "overflow_y": null,
            "padding": null,
            "right": null,
            "top": null,
            "visibility": null,
            "width": null
          }
        },
        "9ccd32381ccc42888a3edd0d6a73d0b5": {
          "model_module": "@jupyter-widgets/base",
          "model_module_version": "1.2.0",
          "model_name": "LayoutModel",
          "state": {
            "_model_module": "@jupyter-widgets/base",
            "_model_module_version": "1.2.0",
            "_model_name": "LayoutModel",
            "_view_count": null,
            "_view_module": "@jupyter-widgets/base",
            "_view_module_version": "1.2.0",
            "_view_name": "LayoutView",
            "align_content": null,
            "align_items": null,
            "align_self": null,
            "border": null,
            "bottom": null,
            "display": null,
            "flex": null,
            "flex_flow": null,
            "grid_area": null,
            "grid_auto_columns": null,
            "grid_auto_flow": null,
            "grid_auto_rows": null,
            "grid_column": null,
            "grid_gap": null,
            "grid_row": null,
            "grid_template_areas": null,
            "grid_template_columns": null,
            "grid_template_rows": null,
            "height": null,
            "justify_content": null,
            "justify_items": null,
            "left": null,
            "margin": null,
            "max_height": null,
            "max_width": null,
            "min_height": null,
            "min_width": null,
            "object_fit": null,
            "object_position": null,
            "order": null,
            "overflow": null,
            "overflow_x": null,
            "overflow_y": null,
            "padding": null,
            "right": null,
            "top": null,
            "visibility": null,
            "width": null
          }
        },
        "a164aca92b4a4aca9b842c98ee1762d0": {
          "model_module": "@jupyter-widgets/controls",
          "model_module_version": "1.5.0",
          "model_name": "DescriptionStyleModel",
          "state": {
            "_model_module": "@jupyter-widgets/controls",
            "_model_module_version": "1.5.0",
            "_model_name": "DescriptionStyleModel",
            "_view_count": null,
            "_view_module": "@jupyter-widgets/base",
            "_view_module_version": "1.2.0",
            "_view_name": "StyleView",
            "description_width": ""
          }
        },
        "a511017edc3346aeaf1609cb6b96ac89": {
          "model_module": "@jupyter-widgets/controls",
          "model_module_version": "1.5.0",
          "model_name": "HTMLModel",
          "state": {
            "_dom_classes": [],
            "_model_module": "@jupyter-widgets/controls",
            "_model_module_version": "1.5.0",
            "_model_name": "HTMLModel",
            "_view_count": null,
            "_view_module": "@jupyter-widgets/controls",
            "_view_module_version": "1.5.0",
            "_view_name": "HTMLView",
            "description": "",
            "description_tooltip": null,
            "layout": "IPY_MODEL_4137ea0f81d041d0b63ca46b6ba4a7ef",
            "placeholder": "​",
            "style": "IPY_MODEL_0b9d189c06fc450791e5678f0b44fb7a",
            "value": "100%"
          }
        },
        "e404eae8bafd48a7aa41617c5bcb4e8a": {
          "model_module": "@jupyter-widgets/controls",
          "model_module_version": "1.5.0",
          "model_name": "HTMLModel",
          "state": {
            "_dom_classes": [],
            "_model_module": "@jupyter-widgets/controls",
            "_model_module_version": "1.5.0",
            "_model_name": "HTMLModel",
            "_view_count": null,
            "_view_module": "@jupyter-widgets/controls",
            "_view_module_version": "1.5.0",
            "_view_name": "HTMLView",
            "description": "",
            "description_tooltip": null,
            "layout": "IPY_MODEL_9ccd32381ccc42888a3edd0d6a73d0b5",
            "placeholder": "​",
            "style": "IPY_MODEL_a164aca92b4a4aca9b842c98ee1762d0",
            "value": " 170498071/170498071 [00:05&lt;00:00, 30753312.99it/s]"
          }
        },
        "e8faf2ff1125419b824e096112946a59": {
          "model_module": "@jupyter-widgets/base",
          "model_module_version": "1.2.0",
          "model_name": "LayoutModel",
          "state": {
            "_model_module": "@jupyter-widgets/base",
            "_model_module_version": "1.2.0",
            "_model_name": "LayoutModel",
            "_view_count": null,
            "_view_module": "@jupyter-widgets/base",
            "_view_module_version": "1.2.0",
            "_view_name": "LayoutView",
            "align_content": null,
            "align_items": null,
            "align_self": null,
            "border": null,
            "bottom": null,
            "display": null,
            "flex": null,
            "flex_flow": null,
            "grid_area": null,
            "grid_auto_columns": null,
            "grid_auto_flow": null,
            "grid_auto_rows": null,
            "grid_column": null,
            "grid_gap": null,
            "grid_row": null,
            "grid_template_areas": null,
            "grid_template_columns": null,
            "grid_template_rows": null,
            "height": null,
            "justify_content": null,
            "justify_items": null,
            "left": null,
            "margin": null,
            "max_height": null,
            "max_width": null,
            "min_height": null,
            "min_width": null,
            "object_fit": null,
            "object_position": null,
            "order": null,
            "overflow": null,
            "overflow_x": null,
            "overflow_y": null,
            "padding": null,
            "right": null,
            "top": null,
            "visibility": null,
            "width": null
          }
        },
        "e9d3c114746241de957f06d63b7c6b0c": {
          "model_module": "@jupyter-widgets/controls",
          "model_module_version": "1.5.0",
          "model_name": "HBoxModel",
          "state": {
            "_dom_classes": [],
            "_model_module": "@jupyter-widgets/controls",
            "_model_module_version": "1.5.0",
            "_model_name": "HBoxModel",
            "_view_count": null,
            "_view_module": "@jupyter-widgets/controls",
            "_view_module_version": "1.5.0",
            "_view_name": "HBoxView",
            "box_style": "",
            "children": [
              "IPY_MODEL_a511017edc3346aeaf1609cb6b96ac89",
              "IPY_MODEL_26d6b7eb5719425f9c7e72232844df17",
              "IPY_MODEL_e404eae8bafd48a7aa41617c5bcb4e8a"
            ],
            "layout": "IPY_MODEL_95cfcf64df774f2ca5bcb451c24973e9"
          }
        }
      }
    }
  },
  "nbformat": 4,
  "nbformat_minor": 0
}